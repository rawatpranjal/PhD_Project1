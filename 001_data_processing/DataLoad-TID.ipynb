{
 "cells": [
  {
   "cell_type": "code",
   "execution_count": 1,
   "metadata": {},
   "outputs": [],
   "source": [
    "import pandas as pd\n",
    "import matplotlib\n",
    "pd.set_option('display.max_rows', 500)\n",
    "pd.set_option('display.max_columns', 500)\n",
    "pd.set_option('display.width', 1000)\n",
    "pd.set_option('display.width', 1000)\n",
    "pd.set_option('display.max_colwidth', None)"
   ]
  },
  {
   "cell_type": "code",
   "execution_count": 2,
   "metadata": {},
   "outputs": [],
   "source": [
    "INPATH = '/Users/pranjal/Downloads/data/'\n",
    "OUTPATH = '/Users/pranjal/Downloads/data/a/'\n",
    "\n",
    "# Events with timestamp and cleared body\n",
    "# 1. Total- 18,420,783, \n",
    "# Unique: UserId - 73584, MsgId - 18420733, \n",
    "# Percentage events - 60% UserSignin, 15% TransConfirm, 10% ecobal, 10% nudgecreat, 5% transcreat, 4% risklvl, 4% loyaltylevl\n",
    "# Date - 2020-02-04 start, end - 2022-06-13\n",
    "a = 'part-00000-tid-7073521145656742331-3e06173f-1926-41aa-b3b7-847006329acc-4624-1-c000.csv'\n",
    "col_a = ['UserId', 'IntegrationEvent', 'MessageId', 'CreationDateUtc', 'ClearedBody']\n",
    "\n",
    "# Device Information - 37,910\n",
    "# Unique : device code - 2, eventName - 220 (mostly AppError, RootedDevice), area 67, type 6 (navigation), all android\n",
    "b = 'appCenterEvents_MSantoni.csv'\n",
    "col_b = ['deviceCode', 'eventName', 'area', 'type', 'timestamp', 'event']\n",
    "\n",
    "# Events - Records - 9,069,894\n",
    "c = 'part-0000.csv'\n",
    "col_c = ['EventName', 'Area', 'Timestamp', 'IngressTimestamp', 'Properties', 'EventId', 'SessionId', 'CorrelationId', 'MessageId', 'MessageType', 'AppId', 'AppVersion', 'UserId', 'DeviceCode']\n",
    "\n",
    "# Events - 1,048,912\n",
    "d = 'part-0001.csv'\n",
    "col_d = ['UserId', 'IntegrationEvent', 'MessageId', 'CreationDateUtc', 'ClearedBody']"
   ]
  },
  {
   "cell_type": "code",
   "execution_count": 3,
   "metadata": {},
   "outputs": [
    {
     "name": "stdout",
     "output_type": "stream",
     "text": [
      "(37910, 6)\n"
     ]
    },
    {
     "data": {
      "text/html": [
       "<div>\n",
       "<style scoped>\n",
       "    .dataframe tbody tr th:only-of-type {\n",
       "        vertical-align: middle;\n",
       "    }\n",
       "\n",
       "    .dataframe tbody tr th {\n",
       "        vertical-align: top;\n",
       "    }\n",
       "\n",
       "    .dataframe thead th {\n",
       "        text-align: right;\n",
       "    }\n",
       "</style>\n",
       "<table border=\"1\" class=\"dataframe\">\n",
       "  <thead>\n",
       "    <tr style=\"text-align: right;\">\n",
       "      <th></th>\n",
       "      <th>deviceCode</th>\n",
       "      <th>eventName</th>\n",
       "      <th>area</th>\n",
       "      <th>type</th>\n",
       "      <th>timestamp</th>\n",
       "      <th>event</th>\n",
       "    </tr>\n",
       "  </thead>\n",
       "  <tbody>\n",
       "    <tr>\n",
       "      <th>1</th>\n",
       "      <td>543f7ebf-e2ce-4bda-af0c-8d1976dd9859</td>\n",
       "      <td>RootedDevice</td>\n",
       "      <td>NaN</td>\n",
       "      <td>NaN</td>\n",
       "      <td>2020-11-04T09:12:53.091Z</td>\n",
       "      <td>{\"LiveUpdateDeploymentKey\":\"None\",\"LiveUpdateR...</td>\n",
       "    </tr>\n",
       "    <tr>\n",
       "      <th>2</th>\n",
       "      <td>543f7ebf-e2ce-4bda-af0c-8d1976dd9859</td>\n",
       "      <td>NaN</td>\n",
       "      <td>NaN</td>\n",
       "      <td>NaN</td>\n",
       "      <td>2020-11-04T09:12:53.185Z</td>\n",
       "      <td>{\"LiveUpdateDeploymentKey\":\"None\",\"LiveUpdateR...</td>\n",
       "    </tr>\n",
       "    <tr>\n",
       "      <th>3</th>\n",
       "      <td>543f7ebf-e2ce-4bda-af0c-8d1976dd9859</td>\n",
       "      <td>RootedDevice</td>\n",
       "      <td>NaN</td>\n",
       "      <td>NaN</td>\n",
       "      <td>2020-11-04T12:18:00.282Z</td>\n",
       "      <td>{\"LiveUpdateDeploymentKey\":\"None\",\"LiveUpdateR...</td>\n",
       "    </tr>\n",
       "    <tr>\n",
       "      <th>4</th>\n",
       "      <td>543f7ebf-e2ce-4bda-af0c-8d1976dd9859</td>\n",
       "      <td>NaN</td>\n",
       "      <td>NaN</td>\n",
       "      <td>NaN</td>\n",
       "      <td>2020-11-04T12:18:00.301Z</td>\n",
       "      <td>{\"LiveUpdateDeploymentKey\":\"None\",\"LiveUpdateR...</td>\n",
       "    </tr>\n",
       "    <tr>\n",
       "      <th>5</th>\n",
       "      <td>543f7ebf-e2ce-4bda-af0c-8d1976dd9859</td>\n",
       "      <td>RootedDevice</td>\n",
       "      <td>NaN</td>\n",
       "      <td>NaN</td>\n",
       "      <td>2020-11-04T17:21:18.79Z</td>\n",
       "      <td>{\"LiveUpdateDeploymentKey\":\"None\",\"LiveUpdateR...</td>\n",
       "    </tr>\n",
       "    <tr>\n",
       "      <th>...</th>\n",
       "      <td>...</td>\n",
       "      <td>...</td>\n",
       "      <td>...</td>\n",
       "      <td>...</td>\n",
       "      <td>...</td>\n",
       "      <td>...</td>\n",
       "    </tr>\n",
       "    <tr>\n",
       "      <th>96</th>\n",
       "      <td>543f7ebf-e2ce-4bda-af0c-8d1976dd9859</td>\n",
       "      <td>App error</td>\n",
       "      <td>NaN</td>\n",
       "      <td>NaN</td>\n",
       "      <td>2020-11-04T21:46:44Z</td>\n",
       "      <td>{\"LiveUpdateDeploymentKey\":\"None\",\"LiveUpdateR...</td>\n",
       "    </tr>\n",
       "    <tr>\n",
       "      <th>97</th>\n",
       "      <td>543f7ebf-e2ce-4bda-af0c-8d1976dd9859</td>\n",
       "      <td>App error</td>\n",
       "      <td>NaN</td>\n",
       "      <td>NaN</td>\n",
       "      <td>2020-11-04T21:46:44.009Z</td>\n",
       "      <td>{\"LiveUpdateDeploymentKey\":\"None\",\"LiveUpdateR...</td>\n",
       "    </tr>\n",
       "    <tr>\n",
       "      <th>98</th>\n",
       "      <td>543f7ebf-e2ce-4bda-af0c-8d1976dd9859</td>\n",
       "      <td>App error</td>\n",
       "      <td>NaN</td>\n",
       "      <td>NaN</td>\n",
       "      <td>2020-11-04T21:46:44.021Z</td>\n",
       "      <td>{\"LiveUpdateDeploymentKey\":\"None\",\"LiveUpdateR...</td>\n",
       "    </tr>\n",
       "    <tr>\n",
       "      <th>99</th>\n",
       "      <td>543f7ebf-e2ce-4bda-af0c-8d1976dd9859</td>\n",
       "      <td>App error</td>\n",
       "      <td>NaN</td>\n",
       "      <td>NaN</td>\n",
       "      <td>2020-11-04T21:46:44.059Z</td>\n",
       "      <td>{\"LiveUpdateDeploymentKey\":\"None\",\"LiveUpdateR...</td>\n",
       "    </tr>\n",
       "    <tr>\n",
       "      <th>100</th>\n",
       "      <td>543f7ebf-e2ce-4bda-af0c-8d1976dd9859</td>\n",
       "      <td>App error</td>\n",
       "      <td>NaN</td>\n",
       "      <td>NaN</td>\n",
       "      <td>2020-11-04T21:46:44.069Z</td>\n",
       "      <td>{\"LiveUpdateDeploymentKey\":\"None\",\"LiveUpdateR...</td>\n",
       "    </tr>\n",
       "  </tbody>\n",
       "</table>\n",
       "<p>100 rows × 6 columns</p>\n",
       "</div>"
      ],
      "text/plain": [
       "                               deviceCode     eventName area type  \\\n",
       "1    543f7ebf-e2ce-4bda-af0c-8d1976dd9859  RootedDevice  NaN  NaN   \n",
       "2    543f7ebf-e2ce-4bda-af0c-8d1976dd9859           NaN  NaN  NaN   \n",
       "3    543f7ebf-e2ce-4bda-af0c-8d1976dd9859  RootedDevice  NaN  NaN   \n",
       "4    543f7ebf-e2ce-4bda-af0c-8d1976dd9859           NaN  NaN  NaN   \n",
       "5    543f7ebf-e2ce-4bda-af0c-8d1976dd9859  RootedDevice  NaN  NaN   \n",
       "..                                    ...           ...  ...  ...   \n",
       "96   543f7ebf-e2ce-4bda-af0c-8d1976dd9859     App error  NaN  NaN   \n",
       "97   543f7ebf-e2ce-4bda-af0c-8d1976dd9859     App error  NaN  NaN   \n",
       "98   543f7ebf-e2ce-4bda-af0c-8d1976dd9859     App error  NaN  NaN   \n",
       "99   543f7ebf-e2ce-4bda-af0c-8d1976dd9859     App error  NaN  NaN   \n",
       "100  543f7ebf-e2ce-4bda-af0c-8d1976dd9859     App error  NaN  NaN   \n",
       "\n",
       "                    timestamp  \\\n",
       "1    2020-11-04T09:12:53.091Z   \n",
       "2    2020-11-04T09:12:53.185Z   \n",
       "3    2020-11-04T12:18:00.282Z   \n",
       "4    2020-11-04T12:18:00.301Z   \n",
       "5     2020-11-04T17:21:18.79Z   \n",
       "..                        ...   \n",
       "96       2020-11-04T21:46:44Z   \n",
       "97   2020-11-04T21:46:44.009Z   \n",
       "98   2020-11-04T21:46:44.021Z   \n",
       "99   2020-11-04T21:46:44.059Z   \n",
       "100  2020-11-04T21:46:44.069Z   \n",
       "\n",
       "                                                 event  \n",
       "1    {\"LiveUpdateDeploymentKey\":\"None\",\"LiveUpdateR...  \n",
       "2    {\"LiveUpdateDeploymentKey\":\"None\",\"LiveUpdateR...  \n",
       "3    {\"LiveUpdateDeploymentKey\":\"None\",\"LiveUpdateR...  \n",
       "4    {\"LiveUpdateDeploymentKey\":\"None\",\"LiveUpdateR...  \n",
       "5    {\"LiveUpdateDeploymentKey\":\"None\",\"LiveUpdateR...  \n",
       "..                                                 ...  \n",
       "96   {\"LiveUpdateDeploymentKey\":\"None\",\"LiveUpdateR...  \n",
       "97   {\"LiveUpdateDeploymentKey\":\"None\",\"LiveUpdateR...  \n",
       "98   {\"LiveUpdateDeploymentKey\":\"None\",\"LiveUpdateR...  \n",
       "99   {\"LiveUpdateDeploymentKey\":\"None\",\"LiveUpdateR...  \n",
       "100  {\"LiveUpdateDeploymentKey\":\"None\",\"LiveUpdateR...  \n",
       "\n",
       "[100 rows x 6 columns]"
      ]
     },
     "execution_count": 3,
     "metadata": {},
     "output_type": "execute_result"
    }
   ],
   "source": [
    "# Read raw data and load fraction (p) \n",
    "OUTPATH = '/Users/pranjal/Downloads/data/a/'\n",
    "import pandas as pd\n",
    "import random\n",
    "#p = 0.05\n",
    "df = pd.read_csv(INPATH + b,\n",
    "                 #error_bad_lines = False, \n",
    "                 names = col_b, \n",
    "                 #nrows = 100,\n",
    "                 #skiprows=lambda i: i>0 and random.random() > p\n",
    "                ) #skiprows = 460953, nrows = 200000)\n",
    "df = df[1:]\n",
    "print(df.shape)\n",
    "df.head(100)"
   ]
  },
  {
   "cell_type": "code",
   "execution_count": 5,
   "metadata": {},
   "outputs": [],
   "source": [
    "OUTPATH = '/Users/pranjal/Downloads/data/a/'\n",
    "#df.to_pickle(OUTPATH + a + '.pkl')\n",
    "import pandas as pd\n",
    "df = pd.read_pickle(INPATH + a + '.pkl')"
   ]
  },
  {
   "cell_type": "code",
   "execution_count": 6,
   "metadata": {},
   "outputs": [
    {
     "name": "stderr",
     "output_type": "stream",
     "text": [
      "/usr/local/lib/python3.9/site-packages/pandas/core/arrays/datetimes.py:1101: UserWarning: Converting to PeriodArray/Index representation will drop timezone information.\n",
      "  warnings.warn(\n"
     ]
    }
   ],
   "source": [
    "df['datetime'] = pd.to_datetime(df.CreationDateUtc)\n",
    "df['date'] = df['datetime'].dt.date\n",
    "df['yearmonth'] = df['datetime'].dt.to_period('M')"
   ]
  },
  {
   "cell_type": "code",
   "execution_count": 10,
   "metadata": {},
   "outputs": [
    {
     "data": {
      "text/plain": [
       "'{\"LiveUpdateDeploymentKey\":\"None\",\"LiveUpdateReleaseLabel\":\"None\",\"LiveUpdatePackageHash\":\"None\",\"WrapperRuntimeVersion\":\"None\",\"WrapperSdkVersion\":\"None\",\"IngressTimestamp\":\"2020-11-04T09:12:57.0030000Z\",\"CarrierCountry\":\"it\",\"TimeZoneOffset\":\"PT1H\",\"WrapperSdkName\":\"None\",\"CorrelationId\":\"8d692876-10d8-4cff-a397-896ed85a66c4\",\"IsTestMessage\":\"False\",\"AppNamespace\":\"com.flowe.flowe\",\"CarrierName\":\"FASTWEB\",\"CountryCode\":\"it\",\"MessageType\":\"EventLog\",\"ScreenSize\":\"1080x1776\",\"Properties\":\"{\\\\\"STATUS\\\\\":\\\\\"false\\\\\"}\",\"AppVersion\":\"0.19.201026.1\",\"OsApiLevel\":\"27\",\"SdkVersion\":\"2.3.0\",\"EventName\":\"RootedDevice\",\"SessionId\":\"00000000-0000-0000-0000-000000000000\",\"Timestamp\":\"2020-11-04T09:12:53.0910000Z\",\"InstallId\":\"543f7ebf-e2ce-4bda-af0c-8d1976dd9859\",\"MessageId\":\"36f28012-93b0-423a-81bf-2b72293ddd77\",\"OsVersion\":\"8.1.0\",\"AppBuild\":\"46\",\"SdkName\":\"appcenter.android\",\"OemName\":\"motorola\",\"EventId\":\"245ee8fc-176f-47b5-8b1f-f77fe64df229\",\"OsBuild\":\"OPS28.85-17-6-2\",\"UserId\":\"None\",\"OsName\":\"Android\",\"Locale\":\"en_US\",\"AppId\":\"69940bd1-a65e-4df8-82e9-e0d4a26dad57\",\"Model\":\"Moto G (5) Plus\"}'"
      ]
     },
     "execution_count": 10,
     "metadata": {},
     "output_type": "execute_result"
    }
   ],
   "source": [
    "df.event[1]"
   ]
  },
  {
   "cell_type": "code",
   "execution_count": 12,
   "metadata": {},
   "outputs": [
    {
     "ename": "NameError",
     "evalue": "name 'df2' is not defined",
     "output_type": "error",
     "traceback": [
      "\u001b[0;31m---------------------------------------------------------------------------\u001b[0m",
      "\u001b[0;31mNameError\u001b[0m                                 Traceback (most recent call last)",
      "Input \u001b[0;32mIn [12]\u001b[0m, in \u001b[0;36m<cell line: 1>\u001b[0;34m()\u001b[0m\n\u001b[0;32m----> 1\u001b[0m df \u001b[38;5;241m=\u001b[39m df\u001b[38;5;241m.\u001b[39mjoin(\u001b[43mdf2\u001b[49m)\n",
      "\u001b[0;31mNameError\u001b[0m: name 'df2' is not defined"
     ]
    }
   ],
   "source": [
    "df = df.join(df2)"
   ]
  },
  {
   "cell_type": "code",
   "execution_count": 8,
   "metadata": {},
   "outputs": [
    {
     "data": {
      "text/plain": [
       "UserSignedIn              0.597986\n",
       "TransactionConfirmed      0.146223\n",
       "EcoBalanceDataComputed    0.098023\n",
       "NudgeCreated              0.089591\n",
       "TransactionCreated        0.049593\n",
       "NudgeRead                 0.006892\n",
       "RiskLevelEvaluated        0.004553\n",
       "LoyaltyLevelChanged       0.004021\n",
       "TreeAcquired              0.001200\n",
       "PhysicalCardRequested     0.001049\n",
       "SubscriptionActivated     0.000870\n",
       "Name: IntegrationEvent, dtype: float64"
      ]
     },
     "execution_count": 8,
     "metadata": {},
     "output_type": "execute_result"
    }
   ],
   "source": [
    "df.IntegrationEvent.value_counts()/df.shape[0]"
   ]
  },
  {
   "cell_type": "code",
   "execution_count": 8,
   "metadata": {},
   "outputs": [
    {
     "data": {
      "text/plain": [
       "2020-02-04       16\n",
       "2020-02-05        7\n",
       "2020-02-06        5\n",
       "2020-02-07        3\n",
       "2020-02-10        2\n",
       "              ...  \n",
       "2022-06-09    30376\n",
       "2022-06-10    31743\n",
       "2022-06-11    25924\n",
       "2022-06-12    24278\n",
       "2022-06-13    19462\n",
       "Name: date, Length: 825, dtype: int64"
      ]
     },
     "execution_count": 8,
     "metadata": {},
     "output_type": "execute_result"
    }
   ],
   "source": [
    "df.date.value_counts().sort_index()"
   ]
  },
  {
   "cell_type": "code",
   "execution_count": 9,
   "metadata": {},
   "outputs": [
    {
     "data": {
      "text/plain": [
       "<AxesSubplot:>"
      ]
     },
     "execution_count": 9,
     "metadata": {},
     "output_type": "execute_result"
    },
    {
     "data": {
      "image/png": "[encoded data removed]",
      "text/plain": [
       "<Figure size 432x288 with 1 Axes>"
      ]
     },
     "metadata": {
      "needs_background": "light"
     },
     "output_type": "display_data"
    }
   ],
   "source": [
    "df.yearmonth.value_counts().sort_index().plot()"
   ]
  },
  {
   "cell_type": "code",
   "execution_count": 11,
   "metadata": {},
   "outputs": [],
   "source": [
    "# Storing the data into event types\n",
    "eventTypes = list(df.IntegrationEvent.value_counts().index)\n",
    "OUTPATH = '/Users/pranjal/Downloads/data/a/'\n",
    "for i in eventTypes:\n",
    "    df[df.IntegrationEvent == i].to_pickle(OUTPATH + str(i) + a + '.pkl')\n",
    "    print('done')\n",
    "#df.to_pickle(OUTPATH + 'cleaned' + '.pkl')"
   ]
  },
  {
   "cell_type": "markdown",
   "metadata": {},
   "source": [
    "# UserSignIn"
   ]
  },
  {
   "cell_type": "code",
   "execution_count": 12,
   "metadata": {},
   "outputs": [],
   "source": [
    "OUTPATH = '/Users/pranjal/Downloads/data/a/'\n",
    "#df.to_pickle(OUTPATH + a + '.pkl')\n",
    "import pandas as pd\n",
    "df = pd.read_pickle(OUTPATH + 'SubscriptionActivated' + a + '.pkl')"
   ]
  },
  {
   "cell_type": "code",
   "execution_count": null,
   "metadata": {},
   "outputs": [],
   "source": []
  }
 ],
 "metadata": {
  "kernelspec": {
   "display_name": "Python 3 (ipykernel)",
   "language": "python",
   "name": "python3"
  },
  "language_info": {
   "codemirror_mode": {
    "name": "ipython",
    "version": 3
   },
   "file_extension": ".py",
   "mimetype": "text/x-python",
   "name": "python",
   "nbconvert_exporter": "python",
   "pygments_lexer": "ipython3",
   "version": "3.9.2"
  }
 },
 "nbformat": 4,
 "nbformat_minor": 4
}
