{
 "cells": [
  {
   "cell_type": "code",
   "execution_count": 1,
   "metadata": {},
   "outputs": [],
   "source": [
    "# Tasks\n",
    "# 1. data extraction, body json hcolumn naming, value counts, summary stats, \n",
    "# 2. load full data (partial columns, full columns, random sample)\n",
    "# 3. nlp on body, date counts, usr and msg distinct counts, skip\n",
    "# 4. figure out what the max col usage is for, and what does each of the filler columns mean\n",
    "# 5. json extraction"
   ]
  },
  {
   "cell_type": "markdown",
   "metadata": {},
   "source": [
    "# Data Processing"
   ]
  },
  {
   "cell_type": "code",
   "execution_count": 2,
   "metadata": {},
   "outputs": [
    {
     "name": "stdout",
     "output_type": "stream",
     "text": [
      "(18420783, 5)\n"
     ]
    },
    {
     "data": {
      "text/html": [
       "<div>\n",
       "<style scoped>\n",
       "    .dataframe tbody tr th:only-of-type {\n",
       "        vertical-align: middle;\n",
       "    }\n",
       "\n",
       "    .dataframe tbody tr th {\n",
       "        vertical-align: top;\n",
       "    }\n",
       "\n",
       "    .dataframe thead th {\n",
       "        text-align: right;\n",
       "    }\n",
       "</style>\n",
       "<table border=\"1\" class=\"dataframe\">\n",
       "  <thead>\n",
       "    <tr style=\"text-align: right;\">\n",
       "      <th></th>\n",
       "      <th>userid</th>\n",
       "      <th>event</th>\n",
       "      <th>msgid</th>\n",
       "      <th>cts</th>\n",
       "      <th>body</th>\n",
       "    </tr>\n",
       "  </thead>\n",
       "  <tbody>\n",
       "    <tr>\n",
       "      <th>1</th>\n",
       "      <td>02542fb7-9ee9-49f9-b17f-e7f6c841c9bb</td>\n",
       "      <td>NudgeCreated</td>\n",
       "      <td>852618c20ec54ef69ad8c7b64f7ad564</td>\n",
       "      <td>2021-10-16T08:09:25.000Z</td>\n",
       "      <td>{\\message\\\": \\\"Con i Gruppi di Spesa \\\\u00e8 f...</td>\n",
       "    </tr>\n",
       "    <tr>\n",
       "      <th>2</th>\n",
       "      <td>02542fb7-9ee9-49f9-b17f-e7f6c841c9bb</td>\n",
       "      <td>NudgeCreated</td>\n",
       "      <td>cb8e47a582b940d3ab93ba9ec8339bc1</td>\n",
       "      <td>2021-10-22T08:14:28.000Z</td>\n",
       "      <td>{\\message\\\": \\\"Segui la rotta dei video Focus ...</td>\n",
       "    </tr>\n",
       "    <tr>\n",
       "      <th>3</th>\n",
       "      <td>02542fb7-9ee9-49f9-b17f-e7f6c841c9bb</td>\n",
       "      <td>UserSignedIn</td>\n",
       "      <td>a5e17409-3ac8-4be9-8058-8c0031c14855</td>\n",
       "      <td>2021-12-25T00:17:49.000Z</td>\n",
       "      <td>{\\deviceCode\\\": \\\"a44e3f40-511c-452a-99c8-7be3...</td>\n",
       "    </tr>\n",
       "    <tr>\n",
       "      <th>4</th>\n",
       "      <td>02542fb7-9ee9-49f9-b17f-e7f6c841c9bb</td>\n",
       "      <td>UserSignedIn</td>\n",
       "      <td>e1a14dbe-adc8-4eb9-b043-fd7315e9234f</td>\n",
       "      <td>2021-09-30T12:51:36.000Z</td>\n",
       "      <td>{\\deviceCode\\\": \\\"a7ebd2ee-72aa-45fc-9825-246b...</td>\n",
       "    </tr>\n",
       "    <tr>\n",
       "      <th>5</th>\n",
       "      <td>02542fb7-9ee9-49f9-b17f-e7f6c841c9bb</td>\n",
       "      <td>UserSignedIn</td>\n",
       "      <td>c58d4b23-da8d-4e62-983a-a7ae1bc7d00f</td>\n",
       "      <td>2021-10-08T08:18:05.000Z</td>\n",
       "      <td>{\\deviceCode\\\": \\\"a44e3f40-511c-452a-99c8-7be3...</td>\n",
       "    </tr>\n",
       "  </tbody>\n",
       "</table>\n",
       "</div>"
      ],
      "text/plain": [
       "                                 userid         event  \\\n",
       "1  02542fb7-9ee9-49f9-b17f-e7f6c841c9bb  NudgeCreated   \n",
       "2  02542fb7-9ee9-49f9-b17f-e7f6c841c9bb  NudgeCreated   \n",
       "3  02542fb7-9ee9-49f9-b17f-e7f6c841c9bb  UserSignedIn   \n",
       "4  02542fb7-9ee9-49f9-b17f-e7f6c841c9bb  UserSignedIn   \n",
       "5  02542fb7-9ee9-49f9-b17f-e7f6c841c9bb  UserSignedIn   \n",
       "\n",
       "                                  msgid                       cts  \\\n",
       "1      852618c20ec54ef69ad8c7b64f7ad564  2021-10-16T08:09:25.000Z   \n",
       "2      cb8e47a582b940d3ab93ba9ec8339bc1  2021-10-22T08:14:28.000Z   \n",
       "3  a5e17409-3ac8-4be9-8058-8c0031c14855  2021-12-25T00:17:49.000Z   \n",
       "4  e1a14dbe-adc8-4eb9-b043-fd7315e9234f  2021-09-30T12:51:36.000Z   \n",
       "5  c58d4b23-da8d-4e62-983a-a7ae1bc7d00f  2021-10-08T08:18:05.000Z   \n",
       "\n",
       "                                                body  \n",
       "1  {\\message\\\": \\\"Con i Gruppi di Spesa \\\\u00e8 f...  \n",
       "2  {\\message\\\": \\\"Segui la rotta dei video Focus ...  \n",
       "3  {\\deviceCode\\\": \\\"a44e3f40-511c-452a-99c8-7be3...  \n",
       "4  {\\deviceCode\\\": \\\"a7ebd2ee-72aa-45fc-9825-246b...  \n",
       "5  {\\deviceCode\\\": \\\"a44e3f40-511c-452a-99c8-7be3...  "
      ]
     },
     "execution_count": 2,
     "metadata": {},
     "output_type": "execute_result"
    }
   ],
   "source": [
    "# Read raw data and load fraction (p) \n",
    "INPATH = '/Users/pranjal/Downloads/part-00000-tid-7073521145656742331-3e06173f-1926-41aa-b3b7-847006329acc-4624-1-c000.csv'\n",
    "column_names = ['userid', 'event', 'msgid', 'cts', 'body']\n",
    "import pandas as pd\n",
    "import random\n",
    "p = 0.05\n",
    "df = pd.read_csv(INPATH, \n",
    "                 error_bad_lines = False, \n",
    "                 names = column_names, \n",
    "                 #nrows = 100000,\n",
    "                 #skiprows=lambda i: i>0 and random.random() > p\n",
    "                ) #skiprows = 460953, nrows = 200000)\n",
    "\n",
    "df = df[1:]\n",
    "print(df.shape)\n",
    "df.head()"
   ]
  },
  {
   "cell_type": "code",
   "execution_count": 1,
   "metadata": {},
   "outputs": [],
   "source": [
    "# Save and load as pickle\n",
    "import pandas as pd\n",
    "#df.to_pickle('/Users/pranjal/Downloads/data.pkl')\n",
    "df = pd.read_pickle('/Users/pranjal/Downloads/data.pkl')"
   ]
  },
  {
   "cell_type": "code",
   "execution_count": 2,
   "metadata": {},
   "outputs": [
    {
     "data": {
      "text/html": [
       "<div>\n",
       "<style scoped>\n",
       "    .dataframe tbody tr th:only-of-type {\n",
       "        vertical-align: middle;\n",
       "    }\n",
       "\n",
       "    .dataframe tbody tr th {\n",
       "        vertical-align: top;\n",
       "    }\n",
       "\n",
       "    .dataframe thead th {\n",
       "        text-align: right;\n",
       "    }\n",
       "</style>\n",
       "<table border=\"1\" class=\"dataframe\">\n",
       "  <thead>\n",
       "    <tr style=\"text-align: right;\">\n",
       "      <th></th>\n",
       "      <th>userid</th>\n",
       "      <th>event</th>\n",
       "      <th>msgid</th>\n",
       "      <th>cts</th>\n",
       "      <th>body</th>\n",
       "    </tr>\n",
       "  </thead>\n",
       "  <tbody>\n",
       "    <tr>\n",
       "      <th>1</th>\n",
       "      <td>02542fb7-9ee9-49f9-b17f-e7f6c841c9bb</td>\n",
       "      <td>NudgeCreated</td>\n",
       "      <td>852618c20ec54ef69ad8c7b64f7ad564</td>\n",
       "      <td>2021-10-16T08:09:25.000Z</td>\n",
       "      <td>{\\message\\\": \\\"Con i Gruppi di Spesa \\\\u00e8 f...</td>\n",
       "    </tr>\n",
       "    <tr>\n",
       "      <th>2</th>\n",
       "      <td>02542fb7-9ee9-49f9-b17f-e7f6c841c9bb</td>\n",
       "      <td>NudgeCreated</td>\n",
       "      <td>cb8e47a582b940d3ab93ba9ec8339bc1</td>\n",
       "      <td>2021-10-22T08:14:28.000Z</td>\n",
       "      <td>{\\message\\\": \\\"Segui la rotta dei video Focus ...</td>\n",
       "    </tr>\n",
       "    <tr>\n",
       "      <th>3</th>\n",
       "      <td>02542fb7-9ee9-49f9-b17f-e7f6c841c9bb</td>\n",
       "      <td>UserSignedIn</td>\n",
       "      <td>a5e17409-3ac8-4be9-8058-8c0031c14855</td>\n",
       "      <td>2021-12-25T00:17:49.000Z</td>\n",
       "      <td>{\\deviceCode\\\": \\\"a44e3f40-511c-452a-99c8-7be3...</td>\n",
       "    </tr>\n",
       "    <tr>\n",
       "      <th>4</th>\n",
       "      <td>02542fb7-9ee9-49f9-b17f-e7f6c841c9bb</td>\n",
       "      <td>UserSignedIn</td>\n",
       "      <td>e1a14dbe-adc8-4eb9-b043-fd7315e9234f</td>\n",
       "      <td>2021-09-30T12:51:36.000Z</td>\n",
       "      <td>{\\deviceCode\\\": \\\"a7ebd2ee-72aa-45fc-9825-246b...</td>\n",
       "    </tr>\n",
       "    <tr>\n",
       "      <th>5</th>\n",
       "      <td>02542fb7-9ee9-49f9-b17f-e7f6c841c9bb</td>\n",
       "      <td>UserSignedIn</td>\n",
       "      <td>c58d4b23-da8d-4e62-983a-a7ae1bc7d00f</td>\n",
       "      <td>2021-10-08T08:18:05.000Z</td>\n",
       "      <td>{\\deviceCode\\\": \\\"a44e3f40-511c-452a-99c8-7be3...</td>\n",
       "    </tr>\n",
       "  </tbody>\n",
       "</table>\n",
       "</div>"
      ],
      "text/plain": [
       "                                 userid         event  \\\n",
       "1  02542fb7-9ee9-49f9-b17f-e7f6c841c9bb  NudgeCreated   \n",
       "2  02542fb7-9ee9-49f9-b17f-e7f6c841c9bb  NudgeCreated   \n",
       "3  02542fb7-9ee9-49f9-b17f-e7f6c841c9bb  UserSignedIn   \n",
       "4  02542fb7-9ee9-49f9-b17f-e7f6c841c9bb  UserSignedIn   \n",
       "5  02542fb7-9ee9-49f9-b17f-e7f6c841c9bb  UserSignedIn   \n",
       "\n",
       "                                  msgid                       cts  \\\n",
       "1      852618c20ec54ef69ad8c7b64f7ad564  2021-10-16T08:09:25.000Z   \n",
       "2      cb8e47a582b940d3ab93ba9ec8339bc1  2021-10-22T08:14:28.000Z   \n",
       "3  a5e17409-3ac8-4be9-8058-8c0031c14855  2021-12-25T00:17:49.000Z   \n",
       "4  e1a14dbe-adc8-4eb9-b043-fd7315e9234f  2021-09-30T12:51:36.000Z   \n",
       "5  c58d4b23-da8d-4e62-983a-a7ae1bc7d00f  2021-10-08T08:18:05.000Z   \n",
       "\n",
       "                                                body  \n",
       "1  {\\message\\\": \\\"Con i Gruppi di Spesa \\\\u00e8 f...  \n",
       "2  {\\message\\\": \\\"Segui la rotta dei video Focus ...  \n",
       "3  {\\deviceCode\\\": \\\"a44e3f40-511c-452a-99c8-7be3...  \n",
       "4  {\\deviceCode\\\": \\\"a7ebd2ee-72aa-45fc-9825-246b...  \n",
       "5  {\\deviceCode\\\": \\\"a44e3f40-511c-452a-99c8-7be3...  "
      ]
     },
     "execution_count": 2,
     "metadata": {},
     "output_type": "execute_result"
    }
   ],
   "source": [
    "df.head()"
   ]
  },
  {
   "cell_type": "code",
   "execution_count": null,
   "metadata": {},
   "outputs": [
    {
     "name": "stdout",
     "output_type": "stream",
     "text": [
      "{\"}\n",
      "{\"}\n",
      "{\"}\n",
      "{\"}\n",
      "{\"}\n",
      "{\"}\n"
     ]
    }
   ],
   "source": [
    "# Cleaning the \"Body\" json\n",
    "import json\n",
    "def clean(x):\n",
    "    x = x.replace(\"\\\\\", \"\")\n",
    "    x = x.replace(\"/\", \"\")\n",
    "    x = x + \"}\"\n",
    "    x = x.replace(\"{\", \"{\\\"\")\n",
    "    x = x.replace(\"\\\\\", \"\")\n",
    "    x = x.replace(\"}\", \"\\\"}\")\n",
    "    x = x.replace(\": \", \": \\\"\")\n",
    "    x = x.replace(\"\\\"\\\"\", \"\\\"\")\n",
    "    x = x.replace(\"\\\"}\\\"}\", \"\\\"}\")\n",
    "\n",
    "    try:\n",
    "        x = json.loads(x)\n",
    "        return x\n",
    "    except:\n",
    "        print(x)\n",
    "        return None\n",
    "\n",
    "df['body_clean'] = df['body'].apply(clean)\n",
    "df['body_clean']"
   ]
  },
  {
   "cell_type": "code",
   "execution_count": null,
   "metadata": {},
   "outputs": [],
   "source": [
    "# Converting \"body\" Json contents into indivisual columns\n",
    "import pandas as pd\n",
    "df2 = pd.json_normalize(df['body_clean'])\n",
    "df3 = df.join(df2)\n",
    "df3.drop(['body', 'body_clean'], axis = 1, inplace = True)\n",
    "df3['date'] = pd.to_datetime(df.cts).dt.date\n",
    "df3['yearmonth'] = pd.to_datetime(df.cts).dt.to_period('M')\n",
    "df3.head()"
   ]
  },
  {
   "cell_type": "code",
   "execution_count": null,
   "metadata": {},
   "outputs": [],
   "source": [
    "# Storing the data into event types\n",
    "eventTypes = list(df3.event.value_counts().index)\n",
    "OUTPATH = '/Users/pranjal/Downloads/'\n",
    "for i in eventTypes:\n",
    "    df3[df3.event == i].to_csv(OUTPATH + str(i) + '.csv')\n",
    "df3.to_csv(OUTPATH + 'cleaned' + '.csv')"
   ]
  },
  {
   "cell_type": "markdown",
   "metadata": {},
   "source": [
    "# Basic Analytics"
   ]
  },
  {
   "cell_type": "code",
   "execution_count": null,
   "metadata": {
    "scrolled": true
   },
   "outputs": [],
   "source": [
    "# Null Counts\n",
    "df3.isnull().sum()"
   ]
  },
  {
   "cell_type": "code",
   "execution_count": null,
   "metadata": {},
   "outputs": [],
   "source": [
    "df3.event.value_counts()"
   ]
  },
  {
   "cell_type": "code",
   "execution_count": null,
   "metadata": {},
   "outputs": [],
   "source": [
    "# Events over time\n",
    "from matplotlib.pyplot import figure\n",
    "figure(figsize=(10, 10), dpi=80)\n",
    "import matplotlib.pyplot as plt\n",
    "df3.date.value_counts().plot()"
   ]
  },
  {
   "cell_type": "code",
   "execution_count": null,
   "metadata": {},
   "outputs": [],
   "source": []
  },
  {
   "cell_type": "code",
   "execution_count": null,
   "metadata": {},
   "outputs": [],
   "source": []
  },
  {
   "cell_type": "code",
   "execution_count": null,
   "metadata": {},
   "outputs": [],
   "source": []
  },
  {
   "cell_type": "code",
   "execution_count": null,
   "metadata": {},
   "outputs": [],
   "source": []
  }
 ],
 "metadata": {
  "kernelspec": {
   "display_name": "Python 3 (ipykernel)",
   "language": "python",
   "name": "python3"
  },
  "language_info": {
   "codemirror_mode": {
    "name": "ipython",
    "version": 3
   },
   "file_extension": ".py",
   "mimetype": "text/x-python",
   "name": "python",
   "nbconvert_exporter": "python",
   "pygments_lexer": "ipython3",
   "version": "3.9.2"
  }
 },
 "nbformat": 4,
 "nbformat_minor": 4
}
