{
 "cells": [
  {
   "cell_type": "markdown",
   "id": "c0560254",
   "metadata": {},
   "source": [
    "# Data Part TID\n",
    "- Events with timestamp and cleared body\n",
    "- Total- 18,420,783, \n",
    "- Unique: UserId - 73584, MsgId - 18420733, \n",
    "- Percentage events - 60% UserSignin, 15% TransConfirm, 10% ecobal, 10% nudgecreat, 5% transcreat, 4% risklvl, 4% loyaltylevl\n",
    "- Date - 2020-02-04 start, end - 2022-06-13"
   ]
  },
  {
   "cell_type": "code",
   "execution_count": 1,
   "id": "08bcf532",
   "metadata": {},
   "outputs": [
    {
     "name": "stdout",
     "output_type": "stream",
     "text": [
      "(18420783, 5)\n"
     ]
    },
    {
     "data": {
      "text/html": [
       "<div>\n",
       "<style scoped>\n",
       "    .dataframe tbody tr th:only-of-type {\n",
       "        vertical-align: middle;\n",
       "    }\n",
       "\n",
       "    .dataframe tbody tr th {\n",
       "        vertical-align: top;\n",
       "    }\n",
       "\n",
       "    .dataframe thead th {\n",
       "        text-align: right;\n",
       "    }\n",
       "</style>\n",
       "<table border=\"1\" class=\"dataframe\">\n",
       "  <thead>\n",
       "    <tr style=\"text-align: right;\">\n",
       "      <th></th>\n",
       "      <th>UserId</th>\n",
       "      <th>IntegrationEvent</th>\n",
       "      <th>MessageId</th>\n",
       "      <th>CreationDateUtc</th>\n",
       "      <th>ClearedBody</th>\n",
       "    </tr>\n",
       "  </thead>\n",
       "  <tbody>\n",
       "    <tr>\n",
       "      <th>1</th>\n",
       "      <td>02542fb7-9ee9-49f9-b17f-e7f6c841c9bb</td>\n",
       "      <td>NudgeCreated</td>\n",
       "      <td>852618c20ec54ef69ad8c7b64f7ad564</td>\n",
       "      <td>2021-10-16T08:09:25.000Z</td>\n",
       "      <td>{\\message\\\": \\\"Con i Gruppi di Spesa \\\\u00e8 f...</td>\n",
       "    </tr>\n",
       "    <tr>\n",
       "      <th>2</th>\n",
       "      <td>02542fb7-9ee9-49f9-b17f-e7f6c841c9bb</td>\n",
       "      <td>NudgeCreated</td>\n",
       "      <td>cb8e47a582b940d3ab93ba9ec8339bc1</td>\n",
       "      <td>2021-10-22T08:14:28.000Z</td>\n",
       "      <td>{\\message\\\": \\\"Segui la rotta dei video Focus ...</td>\n",
       "    </tr>\n",
       "    <tr>\n",
       "      <th>3</th>\n",
       "      <td>02542fb7-9ee9-49f9-b17f-e7f6c841c9bb</td>\n",
       "      <td>UserSignedIn</td>\n",
       "      <td>a5e17409-3ac8-4be9-8058-8c0031c14855</td>\n",
       "      <td>2021-12-25T00:17:49.000Z</td>\n",
       "      <td>{\\deviceCode\\\": \\\"a44e3f40-511c-452a-99c8-7be3...</td>\n",
       "    </tr>\n",
       "    <tr>\n",
       "      <th>4</th>\n",
       "      <td>02542fb7-9ee9-49f9-b17f-e7f6c841c9bb</td>\n",
       "      <td>UserSignedIn</td>\n",
       "      <td>e1a14dbe-adc8-4eb9-b043-fd7315e9234f</td>\n",
       "      <td>2021-09-30T12:51:36.000Z</td>\n",
       "      <td>{\\deviceCode\\\": \\\"a7ebd2ee-72aa-45fc-9825-246b...</td>\n",
       "    </tr>\n",
       "    <tr>\n",
       "      <th>5</th>\n",
       "      <td>02542fb7-9ee9-49f9-b17f-e7f6c841c9bb</td>\n",
       "      <td>UserSignedIn</td>\n",
       "      <td>c58d4b23-da8d-4e62-983a-a7ae1bc7d00f</td>\n",
       "      <td>2021-10-08T08:18:05.000Z</td>\n",
       "      <td>{\\deviceCode\\\": \\\"a44e3f40-511c-452a-99c8-7be3...</td>\n",
       "    </tr>\n",
       "  </tbody>\n",
       "</table>\n",
       "</div>"
      ],
      "text/plain": [
       "                                 UserId IntegrationEvent  \\\n",
       "1  02542fb7-9ee9-49f9-b17f-e7f6c841c9bb     NudgeCreated   \n",
       "2  02542fb7-9ee9-49f9-b17f-e7f6c841c9bb     NudgeCreated   \n",
       "3  02542fb7-9ee9-49f9-b17f-e7f6c841c9bb     UserSignedIn   \n",
       "4  02542fb7-9ee9-49f9-b17f-e7f6c841c9bb     UserSignedIn   \n",
       "5  02542fb7-9ee9-49f9-b17f-e7f6c841c9bb     UserSignedIn   \n",
       "\n",
       "                              MessageId           CreationDateUtc  \\\n",
       "1      852618c20ec54ef69ad8c7b64f7ad564  2021-10-16T08:09:25.000Z   \n",
       "2      cb8e47a582b940d3ab93ba9ec8339bc1  2021-10-22T08:14:28.000Z   \n",
       "3  a5e17409-3ac8-4be9-8058-8c0031c14855  2021-12-25T00:17:49.000Z   \n",
       "4  e1a14dbe-adc8-4eb9-b043-fd7315e9234f  2021-09-30T12:51:36.000Z   \n",
       "5  c58d4b23-da8d-4e62-983a-a7ae1bc7d00f  2021-10-08T08:18:05.000Z   \n",
       "\n",
       "                                         ClearedBody  \n",
       "1  {\\message\\\": \\\"Con i Gruppi di Spesa \\\\u00e8 f...  \n",
       "2  {\\message\\\": \\\"Segui la rotta dei video Focus ...  \n",
       "3  {\\deviceCode\\\": \\\"a44e3f40-511c-452a-99c8-7be3...  \n",
       "4  {\\deviceCode\\\": \\\"a7ebd2ee-72aa-45fc-9825-246b...  \n",
       "5  {\\deviceCode\\\": \\\"a44e3f40-511c-452a-99c8-7be3...  "
      ]
     },
     "execution_count": 1,
     "metadata": {},
     "output_type": "execute_result"
    }
   ],
   "source": [
    "INPATH = '/Users/pranjal/Downloads/data/part-00000-tid-7073521145656742331-3e06173f-1926-41aa-b3b7-847006329acc-4624-1-c000.csv'\n",
    "column_names = ['UserId', 'IntegrationEvent', 'MessageId', 'CreationDateUtc', 'ClearedBody']\n",
    "\n",
    "import pandas as pd\n",
    "import random\n",
    "p = 0.05\n",
    "df = pd.read_csv(INPATH, \n",
    "                 error_bad_lines = False, \n",
    "                 names = column_names, \n",
    "                 #nrows = 100000,\n",
    "                 #skiprows=lambda i: i>0 and random.random() > p\n",
    "                ) #skiprows = 460953, nrows = 200000)\n",
    "\n",
    "df = df[1:]\n",
    "print(df.shape)\n",
    "df.head()"
   ]
  },
  {
   "cell_type": "code",
   "execution_count": 3,
   "id": "7c99b6d2",
   "metadata": {},
   "outputs": [
    {
     "name": "stdout",
     "output_type": "stream",
     "text": [
      "{\"}\n",
      "{\"}\n",
      "{\"}\n",
      "{\"}\n",
      "{\"}\n",
      "{\"}\n",
      "{\"}\n",
      "{\"}\n"
     ]
    }
   ],
   "source": [
    "# Cleaning the \"Body\" json\n",
    "import json\n",
    "def clean(x):\n",
    "    x = x.replace(\"\\\\\", \"\")\n",
    "    x = x.replace(\"/\", \"\")\n",
    "    x = x + \"}\"\n",
    "    x = x.replace(\"{\", \"{\\\"\")\n",
    "    x = x.replace(\"\\\\\", \"\")\n",
    "    x = x.replace(\"}\", \"\\\"}\")\n",
    "    x = x.replace(\": \", \": \\\"\")\n",
    "    x = x.replace(\"\\\"\\\"\", \"\\\"\")\n",
    "    x = x.replace(\"\\\"}\\\"}\", \"\\\"}\")\n",
    "\n",
    "    try:\n",
    "        x = json.loads(x)\n",
    "        return x\n",
    "    except:\n",
    "        print(x)\n",
    "        return {}\n",
    "\n",
    "df['ClearedBody'] = df['ClearedBody'].apply(clean)"
   ]
  },
  {
   "cell_type": "code",
   "execution_count": 4,
   "id": "978a9925",
   "metadata": {},
   "outputs": [
    {
     "name": "stderr",
     "output_type": "stream",
     "text": [
      "/usr/local/lib/python3.9/site-packages/pandas/core/arrays/datetimes.py:1101: UserWarning: Converting to PeriodArray/Index representation will drop timezone information.\n",
      "  warnings.warn(\n"
     ]
    }
   ],
   "source": [
    "df['CreationDateUtc'] = pd.to_datetime(df.CreationDateUtc)\n",
    "df['date'] = df['CreationDateUtc'].dt.date\n",
    "df['yearmonth'] = df['CreationDateUtc'].dt.to_period('M')"
   ]
  },
  {
   "cell_type": "markdown",
   "id": "edb724cc",
   "metadata": {},
   "source": [
    "# Check 1"
   ]
  },
  {
   "cell_type": "code",
   "execution_count": 5,
   "id": "a08e6f09",
   "metadata": {},
   "outputs": [
    {
     "data": {
      "text/plain": [
       "UserSignedIn              0.597986\n",
       "TransactionConfirmed      0.146223\n",
       "EcoBalanceDataComputed    0.098023\n",
       "NudgeCreated              0.089591\n",
       "TransactionCreated        0.049593\n",
       "NudgeRead                 0.006892\n",
       "RiskLevelEvaluated        0.004553\n",
       "LoyaltyLevelChanged       0.004021\n",
       "TreeAcquired              0.001200\n",
       "PhysicalCardRequested     0.001049\n",
       "SubscriptionActivated     0.000870\n",
       "Name: IntegrationEvent, dtype: float64"
      ]
     },
     "execution_count": 5,
     "metadata": {},
     "output_type": "execute_result"
    }
   ],
   "source": [
    "# Summary Count 1\n",
    "df.IntegrationEvent.value_counts()/df.shape[0]"
   ]
  },
  {
   "cell_type": "code",
   "execution_count": 6,
   "id": "f60f9699",
   "metadata": {},
   "outputs": [],
   "source": [
    "df2 = df.drop_duplicates(subset = ['UserId', 'IntegrationEvent'])"
   ]
  },
  {
   "cell_type": "code",
   "execution_count": 7,
   "id": "822ad5e9",
   "metadata": {},
   "outputs": [
    {
     "data": {
      "text/plain": [
       "UserSignedIn              0.144387\n",
       "TransactionConfirmed      0.144387\n",
       "RiskLevelEvaluated        0.143826\n",
       "LoyaltyLevelChanged       0.135139\n",
       "NudgeCreated              0.121897\n",
       "EcoBalanceDataComputed    0.094824\n",
       "TransactionCreated        0.072488\n",
       "TreeAcquired              0.043377\n",
       "PhysicalCardRequested     0.037567\n",
       "NudgeRead                 0.036582\n",
       "SubscriptionActivated     0.025526\n",
       "Name: IntegrationEvent, dtype: float64"
      ]
     },
     "execution_count": 7,
     "metadata": {},
     "output_type": "execute_result"
    }
   ],
   "source": [
    "df2.IntegrationEvent.value_counts()/df2.shape[0]"
   ]
  },
  {
   "cell_type": "markdown",
   "id": "873a8755",
   "metadata": {},
   "source": [
    "# Separate files and study fields"
   ]
  },
  {
   "cell_type": "code",
   "execution_count": 9,
   "id": "58225a1d",
   "metadata": {},
   "outputs": [],
   "source": [
    "# Storing the data into event types\n",
    "eventTypes = list(df.IntegrationEvent.value_counts().index)\n",
    "OUTPATH = '/Users/pranjal/Downloads/data'\n",
    "for i in eventTypes:\n",
    "    df[df.IntegrationEvent == i].to_pickle(OUTPATH + str(i) + '.pkl')"
   ]
  },
  {
   "cell_type": "markdown",
   "id": "36c16f15",
   "metadata": {},
   "source": [
    "# Panels"
   ]
  },
  {
   "cell_type": "code",
   "execution_count": 10,
   "id": "8621f652",
   "metadata": {},
   "outputs": [],
   "source": [
    "df1 = df[df.IntegrationEvent == 'UserSignIn']"
   ]
  },
  {
   "cell_type": "code",
   "execution_count": 11,
   "id": "e6983dba",
   "metadata": {},
   "outputs": [],
   "source": [
    "df2 = df[df.IntegrationEvent == 'TransactionConfirmed']"
   ]
  },
  {
   "cell_type": "code",
   "execution_count": null,
   "id": "161c8478",
   "metadata": {},
   "outputs": [],
   "source": []
  }
 ],
 "metadata": {
  "kernelspec": {
   "display_name": "Python 3 (ipykernel)",
   "language": "python",
   "name": "python3"
  },
  "language_info": {
   "codemirror_mode": {
    "name": "ipython",
    "version": 3
   },
   "file_extension": ".py",
   "mimetype": "text/x-python",
   "name": "python",
   "nbconvert_exporter": "python",
   "pygments_lexer": "ipython3",
   "version": "3.9.2"
  }
 },
 "nbformat": 4,
 "nbformat_minor": 5
}
