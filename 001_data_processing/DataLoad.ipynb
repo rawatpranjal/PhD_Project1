{
 "cells": [
  {
   "cell_type": "code",
   "execution_count": 10,
   "metadata": {},
   "outputs": [],
   "source": [
    "# Tasks\n",
    "# 1. data extraction, column naming, value counts, summary stats, \n",
    "# 2. load full data (partial columns, full columns, random sample)\n",
    "# 3. nlp on body, date counts, usr and msg distinct counts, skip\n",
    "# 4. figure out what the max col usage is for, and what does each of the filler columns mean\n",
    "# 5. json extraction"
   ]
  },
  {
   "cell_type": "markdown",
   "metadata": {},
   "source": [
    "# Data Processing"
   ]
  },
  {
   "cell_type": "code",
   "execution_count": 11,
   "metadata": {},
   "outputs": [
    {
     "name": "stdout",
     "output_type": "stream",
     "text": [
      "(921211, 5)\n"
     ]
    },
    {
     "data": {
      "text/html": [
       "<div>\n",
       "<style scoped>\n",
       "    .dataframe tbody tr th:only-of-type {\n",
       "        vertical-align: middle;\n",
       "    }\n",
       "\n",
       "    .dataframe tbody tr th {\n",
       "        vertical-align: top;\n",
       "    }\n",
       "\n",
       "    .dataframe thead th {\n",
       "        text-align: right;\n",
       "    }\n",
       "</style>\n",
       "<table border=\"1\" class=\"dataframe\">\n",
       "  <thead>\n",
       "    <tr style=\"text-align: right;\">\n",
       "      <th></th>\n",
       "      <th>userid</th>\n",
       "      <th>event</th>\n",
       "      <th>msgid</th>\n",
       "      <th>cts</th>\n",
       "      <th>body</th>\n",
       "    </tr>\n",
       "  </thead>\n",
       "  <tbody>\n",
       "    <tr>\n",
       "      <th>1</th>\n",
       "      <td>02542fb7-9ee9-49f9-b17f-e7f6c841c9bb</td>\n",
       "      <td>UserSignedIn</td>\n",
       "      <td>a47fd3cc-c9db-432b-9f50-d8aa76bf35a5</td>\n",
       "      <td>2021-10-04T16:41:36.000Z</td>\n",
       "      <td>{\\deviceCode\\\": \\\"a7ebd2ee-72aa-45fc-9825-246b...</td>\n",
       "    </tr>\n",
       "    <tr>\n",
       "      <th>2</th>\n",
       "      <td>02542fb7-9ee9-49f9-b17f-e7f6c841c9bb</td>\n",
       "      <td>UserSignedIn</td>\n",
       "      <td>d0a2fb86-3f38-48f9-9106-61b2771f493d</td>\n",
       "      <td>2021-09-28T09:25:02.000Z</td>\n",
       "      <td>{\\deviceCode\\\": \\\"a7ebd2ee-72aa-45fc-9825-246b...</td>\n",
       "    </tr>\n",
       "    <tr>\n",
       "      <th>3</th>\n",
       "      <td>02542fb7-9ee9-49f9-b17f-e7f6c841c9bb</td>\n",
       "      <td>UserSignedIn</td>\n",
       "      <td>625cda9f-6a43-4070-9630-a3e6774c2690</td>\n",
       "      <td>2021-10-29T09:07:50.000Z</td>\n",
       "      <td>{\\deviceCode\\\": \\\"a44e3f40-511c-452a-99c8-7be3...</td>\n",
       "    </tr>\n",
       "    <tr>\n",
       "      <th>4</th>\n",
       "      <td>02650cc5-b4da-483a-96cc-4b6a5119a808</td>\n",
       "      <td>LoyaltyLevelChanged</td>\n",
       "      <td>390d362a-4b31-4a71-bba0-5b8165a12a27</td>\n",
       "      <td>2022-02-08T13:08:18.000Z</td>\n",
       "      <td>{\\currentLoyaltyLevel\\\": \\\"Fan2\\\"</td>\n",
       "    </tr>\n",
       "    <tr>\n",
       "      <th>5</th>\n",
       "      <td>02650cc5-b4da-483a-96cc-4b6a5119a808</td>\n",
       "      <td>TransactionConfirmed</td>\n",
       "      <td>6d8bc20c-ffb9-49bb-856e-68f683a5e9d5</td>\n",
       "      <td>2022-05-10T23:14:09.000Z</td>\n",
       "      <td>{\\rowId\\\": 13102673</td>\n",
       "    </tr>\n",
       "  </tbody>\n",
       "</table>\n",
       "</div>"
      ],
      "text/plain": [
       "                                 userid                 event  \\\n",
       "1  02542fb7-9ee9-49f9-b17f-e7f6c841c9bb          UserSignedIn   \n",
       "2  02542fb7-9ee9-49f9-b17f-e7f6c841c9bb          UserSignedIn   \n",
       "3  02542fb7-9ee9-49f9-b17f-e7f6c841c9bb          UserSignedIn   \n",
       "4  02650cc5-b4da-483a-96cc-4b6a5119a808   LoyaltyLevelChanged   \n",
       "5  02650cc5-b4da-483a-96cc-4b6a5119a808  TransactionConfirmed   \n",
       "\n",
       "                                  msgid                       cts  \\\n",
       "1  a47fd3cc-c9db-432b-9f50-d8aa76bf35a5  2021-10-04T16:41:36.000Z   \n",
       "2  d0a2fb86-3f38-48f9-9106-61b2771f493d  2021-09-28T09:25:02.000Z   \n",
       "3  625cda9f-6a43-4070-9630-a3e6774c2690  2021-10-29T09:07:50.000Z   \n",
       "4  390d362a-4b31-4a71-bba0-5b8165a12a27  2022-02-08T13:08:18.000Z   \n",
       "5  6d8bc20c-ffb9-49bb-856e-68f683a5e9d5  2022-05-10T23:14:09.000Z   \n",
       "\n",
       "                                                body  \n",
       "1  {\\deviceCode\\\": \\\"a7ebd2ee-72aa-45fc-9825-246b...  \n",
       "2  {\\deviceCode\\\": \\\"a7ebd2ee-72aa-45fc-9825-246b...  \n",
       "3  {\\deviceCode\\\": \\\"a44e3f40-511c-452a-99c8-7be3...  \n",
       "4                  {\\currentLoyaltyLevel\\\": \\\"Fan2\\\"  \n",
       "5                                {\\rowId\\\": 13102673  "
      ]
     },
     "execution_count": 11,
     "metadata": {},
     "output_type": "execute_result"
    }
   ],
   "source": [
    "# Read raw data and load fraction (p) \n",
    "\n",
    "INPATH = '/Users/pranjal/Downloads/part-00000-tid-7073521145656742331-3e06173f-1926-41aa-b3b7-847006329acc-4624-1-c000.csv'\n",
    "column_names = ['userid', 'event', 'msgid', 'cts', 'body']\n",
    "import pandas as pd\n",
    "import random\n",
    "p = 0.05\n",
    "df = pd.read_csv(INPATH, \n",
    "                 error_bad_lines = False, \n",
    "                 names = column_names, \n",
    "                 #nrows = 100000,\n",
    "                 skiprows=lambda i: i>0 and random.random() > p\n",
    "                ) #skiprows = 460953, nrows = 200000)\n",
    "\n",
    "df = df[1:]\n",
    "print(df.shape)\n",
    "df.head()"
   ]
  },
  {
   "cell_type": "code",
   "execution_count": 12,
   "metadata": {},
   "outputs": [
    {
     "data": {
      "text/plain": [
       "1         {'deviceCode': 'a7ebd2ee-72aa-45fc-9825-246bc5...\n",
       "2         {'deviceCode': 'a7ebd2ee-72aa-45fc-9825-246bc5...\n",
       "3         {'deviceCode': 'a44e3f40-511c-452a-99c8-7be335...\n",
       "4                           {'currentLoyaltyLevel': 'Fan2'}\n",
       "5                                     {'rowId': '13102673'}\n",
       "                                ...                        \n",
       "921207                                {'rowId': '13395160'}\n",
       "921208                                {'rowId': '11201143'}\n",
       "921209                  {'transactionId': 'ACLK2107477003'}\n",
       "921210    {'userId': 'ffa18ab0-c2de-469b-9561-4f062d2660...\n",
       "921211    {'deviceCode': 'a3a386be-edca-4950-9aed-7267d8...\n",
       "Name: body_clean, Length: 921211, dtype: object"
      ]
     },
     "execution_count": 12,
     "metadata": {},
     "output_type": "execute_result"
    }
   ],
   "source": [
    "# Cleaning the \"Body\" json\n",
    "import json\n",
    "def clean(x):\n",
    "    x = x.replace(\"\\\\\", \"\")\n",
    "    x = x.replace(\"/\", \"\")\n",
    "    x = x + \"}\"\n",
    "    x = x.replace(\"{\", \"{\\\"\")\n",
    "    x = x.replace(\"\\\\\", \"\")\n",
    "    x = x.replace(\"}\", \"\\\"}\")\n",
    "    x = x.replace(\": \", \": \\\"\")\n",
    "    x = x.replace(\"\\\"\\\"\", \"\\\"\")\n",
    "    x = x.replace(\"\\\"}\\\"}\", \"\\\"}\")\n",
    "    #print(x)\n",
    "    x = json.loads(x)\n",
    "    return x\n",
    "\n",
    "df['body_clean']= df['body'].apply(clean)\n",
    "df['body_clean']"
   ]
  },
  {
   "cell_type": "code",
   "execution_count": 13,
   "metadata": {},
   "outputs": [
    {
     "name": "stderr",
     "output_type": "stream",
     "text": [
      "/usr/local/lib/python3.8/site-packages/pandas/core/arrays/datetimes.py:1101: UserWarning: Converting to PeriodArray/Index representation will drop timezone information.\n",
      "  warnings.warn(\n"
     ]
    },
    {
     "data": {
      "text/html": [
       "<div>\n",
       "<style scoped>\n",
       "    .dataframe tbody tr th:only-of-type {\n",
       "        vertical-align: middle;\n",
       "    }\n",
       "\n",
       "    .dataframe tbody tr th {\n",
       "        vertical-align: top;\n",
       "    }\n",
       "\n",
       "    .dataframe thead th {\n",
       "        text-align: right;\n",
       "    }\n",
       "</style>\n",
       "<table border=\"1\" class=\"dataframe\">\n",
       "  <thead>\n",
       "    <tr style=\"text-align: right;\">\n",
       "      <th></th>\n",
       "      <th>userid</th>\n",
       "      <th>event</th>\n",
       "      <th>msgid</th>\n",
       "      <th>cts</th>\n",
       "      <th>deviceCode</th>\n",
       "      <th>currentLoyaltyLevel</th>\n",
       "      <th>rowId</th>\n",
       "      <th>message</th>\n",
       "      <th>userId</th>\n",
       "      <th>transactionId</th>\n",
       "      <th>nudgeId</th>\n",
       "      <th>activationAmount</th>\n",
       "      <th>treeId</th>\n",
       "      <th>loyaltyLevel</th>\n",
       "      <th>cardType</th>\n",
       "      <th>creationDate</th>\n",
       "      <th>product</th>\n",
       "      <th>birthDate</th>\n",
       "      <th>date</th>\n",
       "      <th>yearmonth</th>\n",
       "    </tr>\n",
       "  </thead>\n",
       "  <tbody>\n",
       "    <tr>\n",
       "      <th>1</th>\n",
       "      <td>02542fb7-9ee9-49f9-b17f-e7f6c841c9bb</td>\n",
       "      <td>UserSignedIn</td>\n",
       "      <td>a47fd3cc-c9db-432b-9f50-d8aa76bf35a5</td>\n",
       "      <td>2021-10-04T16:41:36.000Z</td>\n",
       "      <td>a7ebd2ee-72aa-45fc-9825-246bc55eabdf</td>\n",
       "      <td>NaN</td>\n",
       "      <td>NaN</td>\n",
       "      <td>NaN</td>\n",
       "      <td>NaN</td>\n",
       "      <td>NaN</td>\n",
       "      <td>NaN</td>\n",
       "      <td>NaN</td>\n",
       "      <td>NaN</td>\n",
       "      <td>NaN</td>\n",
       "      <td>NaN</td>\n",
       "      <td>NaN</td>\n",
       "      <td>NaN</td>\n",
       "      <td>NaN</td>\n",
       "      <td>2021-10-04</td>\n",
       "      <td>2021-10</td>\n",
       "    </tr>\n",
       "    <tr>\n",
       "      <th>2</th>\n",
       "      <td>02542fb7-9ee9-49f9-b17f-e7f6c841c9bb</td>\n",
       "      <td>UserSignedIn</td>\n",
       "      <td>d0a2fb86-3f38-48f9-9106-61b2771f493d</td>\n",
       "      <td>2021-09-28T09:25:02.000Z</td>\n",
       "      <td>a44e3f40-511c-452a-99c8-7be335680c9a</td>\n",
       "      <td>NaN</td>\n",
       "      <td>NaN</td>\n",
       "      <td>NaN</td>\n",
       "      <td>NaN</td>\n",
       "      <td>NaN</td>\n",
       "      <td>NaN</td>\n",
       "      <td>NaN</td>\n",
       "      <td>NaN</td>\n",
       "      <td>NaN</td>\n",
       "      <td>NaN</td>\n",
       "      <td>NaN</td>\n",
       "      <td>NaN</td>\n",
       "      <td>NaN</td>\n",
       "      <td>2021-09-28</td>\n",
       "      <td>2021-09</td>\n",
       "    </tr>\n",
       "    <tr>\n",
       "      <th>3</th>\n",
       "      <td>02542fb7-9ee9-49f9-b17f-e7f6c841c9bb</td>\n",
       "      <td>UserSignedIn</td>\n",
       "      <td>625cda9f-6a43-4070-9630-a3e6774c2690</td>\n",
       "      <td>2021-10-29T09:07:50.000Z</td>\n",
       "      <td>NaN</td>\n",
       "      <td>Fan2</td>\n",
       "      <td>NaN</td>\n",
       "      <td>NaN</td>\n",
       "      <td>NaN</td>\n",
       "      <td>NaN</td>\n",
       "      <td>NaN</td>\n",
       "      <td>NaN</td>\n",
       "      <td>NaN</td>\n",
       "      <td>NaN</td>\n",
       "      <td>NaN</td>\n",
       "      <td>NaN</td>\n",
       "      <td>NaN</td>\n",
       "      <td>NaN</td>\n",
       "      <td>2021-10-29</td>\n",
       "      <td>2021-10</td>\n",
       "    </tr>\n",
       "    <tr>\n",
       "      <th>4</th>\n",
       "      <td>02650cc5-b4da-483a-96cc-4b6a5119a808</td>\n",
       "      <td>LoyaltyLevelChanged</td>\n",
       "      <td>390d362a-4b31-4a71-bba0-5b8165a12a27</td>\n",
       "      <td>2022-02-08T13:08:18.000Z</td>\n",
       "      <td>NaN</td>\n",
       "      <td>NaN</td>\n",
       "      <td>13102673</td>\n",
       "      <td>NaN</td>\n",
       "      <td>NaN</td>\n",
       "      <td>NaN</td>\n",
       "      <td>NaN</td>\n",
       "      <td>NaN</td>\n",
       "      <td>NaN</td>\n",
       "      <td>NaN</td>\n",
       "      <td>NaN</td>\n",
       "      <td>NaN</td>\n",
       "      <td>NaN</td>\n",
       "      <td>NaN</td>\n",
       "      <td>2022-02-08</td>\n",
       "      <td>2022-02</td>\n",
       "    </tr>\n",
       "    <tr>\n",
       "      <th>5</th>\n",
       "      <td>02650cc5-b4da-483a-96cc-4b6a5119a808</td>\n",
       "      <td>TransactionConfirmed</td>\n",
       "      <td>6d8bc20c-ffb9-49bb-856e-68f683a5e9d5</td>\n",
       "      <td>2022-05-10T23:14:09.000Z</td>\n",
       "      <td>a070a268-5417-4450-9414-8cf98682c453</td>\n",
       "      <td>NaN</td>\n",
       "      <td>NaN</td>\n",
       "      <td>NaN</td>\n",
       "      <td>NaN</td>\n",
       "      <td>NaN</td>\n",
       "      <td>NaN</td>\n",
       "      <td>NaN</td>\n",
       "      <td>NaN</td>\n",
       "      <td>NaN</td>\n",
       "      <td>NaN</td>\n",
       "      <td>NaN</td>\n",
       "      <td>NaN</td>\n",
       "      <td>NaN</td>\n",
       "      <td>2022-05-10</td>\n",
       "      <td>2022-05</td>\n",
       "    </tr>\n",
       "  </tbody>\n",
       "</table>\n",
       "</div>"
      ],
      "text/plain": [
       "                                 userid                 event  \\\n",
       "1  02542fb7-9ee9-49f9-b17f-e7f6c841c9bb          UserSignedIn   \n",
       "2  02542fb7-9ee9-49f9-b17f-e7f6c841c9bb          UserSignedIn   \n",
       "3  02542fb7-9ee9-49f9-b17f-e7f6c841c9bb          UserSignedIn   \n",
       "4  02650cc5-b4da-483a-96cc-4b6a5119a808   LoyaltyLevelChanged   \n",
       "5  02650cc5-b4da-483a-96cc-4b6a5119a808  TransactionConfirmed   \n",
       "\n",
       "                                  msgid                       cts  \\\n",
       "1  a47fd3cc-c9db-432b-9f50-d8aa76bf35a5  2021-10-04T16:41:36.000Z   \n",
       "2  d0a2fb86-3f38-48f9-9106-61b2771f493d  2021-09-28T09:25:02.000Z   \n",
       "3  625cda9f-6a43-4070-9630-a3e6774c2690  2021-10-29T09:07:50.000Z   \n",
       "4  390d362a-4b31-4a71-bba0-5b8165a12a27  2022-02-08T13:08:18.000Z   \n",
       "5  6d8bc20c-ffb9-49bb-856e-68f683a5e9d5  2022-05-10T23:14:09.000Z   \n",
       "\n",
       "                             deviceCode currentLoyaltyLevel     rowId message  \\\n",
       "1  a7ebd2ee-72aa-45fc-9825-246bc55eabdf                 NaN       NaN     NaN   \n",
       "2  a44e3f40-511c-452a-99c8-7be335680c9a                 NaN       NaN     NaN   \n",
       "3                                   NaN                Fan2       NaN     NaN   \n",
       "4                                   NaN                 NaN  13102673     NaN   \n",
       "5  a070a268-5417-4450-9414-8cf98682c453                 NaN       NaN     NaN   \n",
       "\n",
       "  userId transactionId nudgeId activationAmount treeId loyaltyLevel cardType  \\\n",
       "1    NaN           NaN     NaN              NaN    NaN          NaN      NaN   \n",
       "2    NaN           NaN     NaN              NaN    NaN          NaN      NaN   \n",
       "3    NaN           NaN     NaN              NaN    NaN          NaN      NaN   \n",
       "4    NaN           NaN     NaN              NaN    NaN          NaN      NaN   \n",
       "5    NaN           NaN     NaN              NaN    NaN          NaN      NaN   \n",
       "\n",
       "  creationDate product birthDate        date yearmonth  \n",
       "1          NaN     NaN       NaN  2021-10-04   2021-10  \n",
       "2          NaN     NaN       NaN  2021-09-28   2021-09  \n",
       "3          NaN     NaN       NaN  2021-10-29   2021-10  \n",
       "4          NaN     NaN       NaN  2022-02-08   2022-02  \n",
       "5          NaN     NaN       NaN  2022-05-10   2022-05  "
      ]
     },
     "execution_count": 13,
     "metadata": {},
     "output_type": "execute_result"
    }
   ],
   "source": [
    "# Converting \"body\" Json contents into indivisual columns\n",
    "import pandas as pd\n",
    "df2 = pd.json_normalize(df['body_clean'])\n",
    "df3 = df.join(df2)\n",
    "df3.drop(['body', 'body_clean'], axis = 1, inplace = True)\n",
    "df3['date'] = pd.to_datetime(df.cts).dt.date\n",
    "df3['yearmonth'] = pd.to_datetime(df.cts).dt.to_period('M')\n",
    "df3.head()"
   ]
  },
  {
   "cell_type": "code",
   "execution_count": 14,
   "metadata": {},
   "outputs": [],
   "source": [
    "# Storing the data into event types\n",
    "eventTypes = list(df3.event.value_counts().index)\n",
    "OUTPATH = '/Users/pranjal/Downloads/'\n",
    "for i in eventTypes:\n",
    "    df3[df3.event == i].to_csv(OUTPATH + str(i) + '.csv')\n",
    "df3.to_csv(OUTPATH + 'cleaned' + '.csv')"
   ]
  },
  {
   "cell_type": "markdown",
   "metadata": {},
   "source": [
    "# Basic Analytics"
   ]
  },
  {
   "cell_type": "code",
   "execution_count": 15,
   "metadata": {
    "scrolled": true
   },
   "outputs": [
    {
     "data": {
      "text/plain": [
       "userid                      0\n",
       "event                       0\n",
       "msgid                       0\n",
       "cts                        73\n",
       "deviceCode             370251\n",
       "currentLoyaltyLevel    917431\n",
       "rowId                  696331\n",
       "message                891212\n",
       "userId                 868862\n",
       "transactionId          875442\n",
       "nudgeId                914854\n",
       "activationAmount       920573\n",
       "treeId                 920096\n",
       "loyaltyLevel           920866\n",
       "cardType               920727\n",
       "creationDate           920878\n",
       "product                921140\n",
       "birthDate              917081\n",
       "date                       73\n",
       "yearmonth                  73\n",
       "dtype: int64"
      ]
     },
     "execution_count": 15,
     "metadata": {},
     "output_type": "execute_result"
    }
   ],
   "source": [
    "# Null Counts\n",
    "df3.isnull().sum()"
   ]
  },
  {
   "cell_type": "code",
   "execution_count": 16,
   "metadata": {},
   "outputs": [
    {
     "data": {
      "text/plain": [
       "UserSignedIn              550961\n",
       "TransactionConfirmed      134379\n",
       "EcoBalanceDataComputed     90501\n",
       "NudgeCreated               82330\n",
       "TransactionCreated         45769\n",
       "NudgeRead                   6357\n",
       "RiskLevelEvaluated          4225\n",
       "LoyaltyLevelChanged         3780\n",
       "TreeAcquired                1115\n",
       "PhysicalCardRequested        994\n",
       "SubscriptionActivated        800\n",
       "Name: event, dtype: int64"
      ]
     },
     "execution_count": 16,
     "metadata": {},
     "output_type": "execute_result"
    }
   ],
   "source": [
    "df3.event.value_counts()"
   ]
  },
  {
   "cell_type": "code",
   "execution_count": 17,
   "metadata": {},
   "outputs": [
    {
     "name": "stderr",
     "output_type": "stream",
     "text": [
      "/usr/local/lib/python3.8/site-packages/pandas/plotting/_matplotlib/converter.py:256: MatplotlibDeprecationWarning: \n",
      "The epoch2num function was deprecated in Matplotlib 3.3 and will be removed two minor releases later.\n",
      "  base = dates.epoch2num(dt.asi8 / 1.0e9)\n"
     ]
    },
    {
     "data": {
      "text/plain": [
       "<AxesSubplot:>"
      ]
     },
     "execution_count": 17,
     "metadata": {},
     "output_type": "execute_result"
    },
    {
     "data": {
      "image/png": "[encoded data removed]",
      "text/plain": [
       "<Figure size 800x800 with 1 Axes>"
      ]
     },
     "metadata": {
      "needs_background": "light"
     },
     "output_type": "display_data"
    }
   ],
   "source": [
    "# Events over time\n",
    "from matplotlib.pyplot import figure\n",
    "figure(figsize=(10, 10), dpi=80)\n",
    "import matplotlib.pyplot as plt\n",
    "df3.date.value_counts().plot()"
   ]
  },
  {
   "cell_type": "code",
   "execution_count": null,
   "metadata": {},
   "outputs": [],
   "source": []
  },
  {
   "cell_type": "code",
   "execution_count": null,
   "metadata": {},
   "outputs": [],
   "source": []
  },
  {
   "cell_type": "code",
   "execution_count": null,
   "metadata": {},
   "outputs": [],
   "source": []
  },
  {
   "cell_type": "code",
   "execution_count": null,
   "metadata": {},
   "outputs": [],
   "source": []
  }
 ],
 "metadata": {
  "kernelspec": {
   "display_name": "Python 3",
   "language": "python",
   "name": "python3"
  },
  "language_info": {
   "codemirror_mode": {
    "name": "ipython",
    "version": 3
   },
   "file_extension": ".py",
   "mimetype": "text/x-python",
   "name": "python",
   "nbconvert_exporter": "python",
   "pygments_lexer": "ipython3",
   "version": "3.8.8"
  }
 },
 "nbformat": 4,
 "nbformat_minor": 4
}
