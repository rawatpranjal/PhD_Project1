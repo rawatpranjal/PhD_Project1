{
 "cells": [
  {
   "cell_type": "code",
   "execution_count": null,
   "metadata": {},
   "outputs": [],
   "source": [
    "# Need to check summary counts\n",
    "# 1. Raw Event Counts\n",
    "\n",
    "* tab event\n",
    "*          UserSignedIn | 11,015,365       59.80      100.00\n",
    "\t\t  \n",
    "*EcoBalanceDataComputed |  1,805,667        9.80        9.80\n",
    "*  TransactionConfirmed |  2,693,551       14.62       35.12\n",
    "*    TransactionCreated |    913,536        4.96       40.08\n",
    "\n",
    "*          TreeAcquired |     22,111        0.12       40.20\n",
    "\n",
    "*    RiskLevelEvaluated |     83,870        0.46       20.41\n",
    "*   LoyaltyLevelChanged |     74,062        0.40       10.20\n",
    "* PhysicalCardRequested |     19,320        0.10       19.96\n",
    "* SubscriptionActivated |     16,023        0.09       20.50\n",
    "\n",
    "*          NudgeCreated |  1,650,331        8.96       19.16\n",
    "*             NudgeRead |    126,947        0.69       19.85\n",
    "save \"${raw_data}Raw_data_BunchedEvents.dta\", replace"
   ]
  },
  {
   "cell_type": "code",
   "execution_count": null,
   "metadata": {},
   "outputs": [],
   "source": []
  },
  {
   "cell_type": "code",
   "execution_count": 5,
   "metadata": {},
   "outputs": [],
   "source": [
    "INPATH = '/Users/pranjal/Downloads/data/'\n",
    "OUTPATH = '/Users/pranjal/Downloads/data/a/'\n",
    "\n",
    "INPATH = '/Users/pranjal/Downloads/data/'\n",
    "OUTPATH = '/Users/pranjal/Downloads/data/a/'\n",
    "\n",
    "# Events with timestamp and cleared body\n",
    "# 1. Total- 18,420,783, \n",
    "# Unique: UserId - 73584, MsgId - 18420733, \n",
    "# Percentage events - 60% UserSignin, 15% TransConfirm, 10% ecobal, 10% nudgecreat, 5% transcreat, 4% risklvl, 4% loyaltylevl\n",
    "# Date - 2020-02-04 start, end - 2022-06-13\n",
    "a = 'part-00000-tid-7073521145656742331-3e06173f-1926-41aa-b3b7-847006329acc-4624-1-c000.csv'\n",
    "col_a = ['UserId', 'IntegrationEvent', 'MessageId', 'CreationDateUtc', 'ClearedBody']\n",
    "\n",
    "# Device Information - 37,910\n",
    "# Unique : device code - 2, eventName - 220 (mostly AppError, RootedDevice), area 67, type 6 (navigation), all android\n",
    "b = 'appCenterEvents_MSantoni.csv'\n",
    "col_b = ['deviceCode', 'eventName', 'area', 'type', 'timestamp', 'event']\n",
    "\n",
    "# Events - Records - 9,069,894\n",
    "c = 'part-0000.csv'\n",
    "col_c = ['EventName', 'Area', 'Timestamp', 'IngressTimestamp', 'Properties', 'EventId', 'SessionId', 'CorrelationId', 'MessageId', 'MessageType', 'AppId', 'AppVersion', 'UserId', 'DeviceCode']\n",
    "\n",
    "# Events - 1,048,912\n",
    "d = 'part-0001.csv'\n",
    "col_d = ['UserId', 'IntegrationEvent', 'MessageId', 'CreationDateUtc', 'ClearedBody']\n",
    "\n",
    "#df.to_pickle(OUTPATH + a + '.pkl')\n",
    "import pandas as pd\n",
    "df = pd.read_pickle(OUTPATH + a + '.pkl')"
   ]
  },
  {
   "cell_type": "code",
   "execution_count": 6,
   "metadata": {},
   "outputs": [
    {
     "data": {
      "text/html": [
       "<div>\n",
       "<style scoped>\n",
       "    .dataframe tbody tr th:only-of-type {\n",
       "        vertical-align: middle;\n",
       "    }\n",
       "\n",
       "    .dataframe tbody tr th {\n",
       "        vertical-align: top;\n",
       "    }\n",
       "\n",
       "    .dataframe thead th {\n",
       "        text-align: right;\n",
       "    }\n",
       "</style>\n",
       "<table border=\"1\" class=\"dataframe\">\n",
       "  <thead>\n",
       "    <tr style=\"text-align: right;\">\n",
       "      <th></th>\n",
       "      <th>UserId</th>\n",
       "      <th>IntegrationEvent</th>\n",
       "      <th>MessageId</th>\n",
       "      <th>CreationDateUtc</th>\n",
       "      <th>ClearedBody</th>\n",
       "    </tr>\n",
       "  </thead>\n",
       "  <tbody>\n",
       "    <tr>\n",
       "      <th>1</th>\n",
       "      <td>02542fb7-9ee9-49f9-b17f-e7f6c841c9bb</td>\n",
       "      <td>NudgeCreated</td>\n",
       "      <td>852618c20ec54ef69ad8c7b64f7ad564</td>\n",
       "      <td>2021-10-16T08:09:25.000Z</td>\n",
       "      <td>{\\message\\\": \\\"Con i Gruppi di Spesa \\\\u00e8 f...</td>\n",
       "    </tr>\n",
       "    <tr>\n",
       "      <th>2</th>\n",
       "      <td>02542fb7-9ee9-49f9-b17f-e7f6c841c9bb</td>\n",
       "      <td>NudgeCreated</td>\n",
       "      <td>cb8e47a582b940d3ab93ba9ec8339bc1</td>\n",
       "      <td>2021-10-22T08:14:28.000Z</td>\n",
       "      <td>{\\message\\\": \\\"Segui la rotta dei video Focus ...</td>\n",
       "    </tr>\n",
       "    <tr>\n",
       "      <th>3</th>\n",
       "      <td>02542fb7-9ee9-49f9-b17f-e7f6c841c9bb</td>\n",
       "      <td>UserSignedIn</td>\n",
       "      <td>a5e17409-3ac8-4be9-8058-8c0031c14855</td>\n",
       "      <td>2021-12-25T00:17:49.000Z</td>\n",
       "      <td>{\\deviceCode\\\": \\\"a44e3f40-511c-452a-99c8-7be3...</td>\n",
       "    </tr>\n",
       "    <tr>\n",
       "      <th>4</th>\n",
       "      <td>02542fb7-9ee9-49f9-b17f-e7f6c841c9bb</td>\n",
       "      <td>UserSignedIn</td>\n",
       "      <td>e1a14dbe-adc8-4eb9-b043-fd7315e9234f</td>\n",
       "      <td>2021-09-30T12:51:36.000Z</td>\n",
       "      <td>{\\deviceCode\\\": \\\"a7ebd2ee-72aa-45fc-9825-246b...</td>\n",
       "    </tr>\n",
       "    <tr>\n",
       "      <th>5</th>\n",
       "      <td>02542fb7-9ee9-49f9-b17f-e7f6c841c9bb</td>\n",
       "      <td>UserSignedIn</td>\n",
       "      <td>c58d4b23-da8d-4e62-983a-a7ae1bc7d00f</td>\n",
       "      <td>2021-10-08T08:18:05.000Z</td>\n",
       "      <td>{\\deviceCode\\\": \\\"a44e3f40-511c-452a-99c8-7be3...</td>\n",
       "    </tr>\n",
       "  </tbody>\n",
       "</table>\n",
       "</div>"
      ],
      "text/plain": [
       "                                 UserId IntegrationEvent  \\\n",
       "1  02542fb7-9ee9-49f9-b17f-e7f6c841c9bb     NudgeCreated   \n",
       "2  02542fb7-9ee9-49f9-b17f-e7f6c841c9bb     NudgeCreated   \n",
       "3  02542fb7-9ee9-49f9-b17f-e7f6c841c9bb     UserSignedIn   \n",
       "4  02542fb7-9ee9-49f9-b17f-e7f6c841c9bb     UserSignedIn   \n",
       "5  02542fb7-9ee9-49f9-b17f-e7f6c841c9bb     UserSignedIn   \n",
       "\n",
       "                              MessageId           CreationDateUtc  \\\n",
       "1      852618c20ec54ef69ad8c7b64f7ad564  2021-10-16T08:09:25.000Z   \n",
       "2      cb8e47a582b940d3ab93ba9ec8339bc1  2021-10-22T08:14:28.000Z   \n",
       "3  a5e17409-3ac8-4be9-8058-8c0031c14855  2021-12-25T00:17:49.000Z   \n",
       "4  e1a14dbe-adc8-4eb9-b043-fd7315e9234f  2021-09-30T12:51:36.000Z   \n",
       "5  c58d4b23-da8d-4e62-983a-a7ae1bc7d00f  2021-10-08T08:18:05.000Z   \n",
       "\n",
       "                                         ClearedBody  \n",
       "1  {\\message\\\": \\\"Con i Gruppi di Spesa \\\\u00e8 f...  \n",
       "2  {\\message\\\": \\\"Segui la rotta dei video Focus ...  \n",
       "3  {\\deviceCode\\\": \\\"a44e3f40-511c-452a-99c8-7be3...  \n",
       "4  {\\deviceCode\\\": \\\"a7ebd2ee-72aa-45fc-9825-246b...  \n",
       "5  {\\deviceCode\\\": \\\"a44e3f40-511c-452a-99c8-7be3...  "
      ]
     },
     "execution_count": 6,
     "metadata": {},
     "output_type": "execute_result"
    }
   ],
   "source": [
    "df.head()"
   ]
  },
  {
   "cell_type": "code",
   "execution_count": 7,
   "metadata": {},
   "outputs": [
    {
     "name": "stdout",
     "output_type": "stream",
     "text": [
      "{\"}\n",
      "{\"}\n",
      "{\"}\n",
      "{\"}\n",
      "{\"}\n",
      "{\"}\n",
      "{\"}\n",
      "{\"}\n"
     ]
    }
   ],
   "source": [
    "# Cleaning the \"Body\" json\n",
    "import json\n",
    "def clean(x):\n",
    "    x = x.replace(\"\\\\\", \"\")\n",
    "    x = x.replace(\"/\", \"\")\n",
    "    x = x + \"}\"\n",
    "    x = x.replace(\"{\", \"{\\\"\")\n",
    "    x = x.replace(\"\\\\\", \"\")\n",
    "    x = x.replace(\"}\", \"\\\"}\")\n",
    "    x = x.replace(\": \", \": \\\"\")\n",
    "    x = x.replace(\"\\\"\\\"\", \"\\\"\")\n",
    "    x = x.replace(\"\\\"}\\\"}\", \"\\\"}\")\n",
    "\n",
    "    try:\n",
    "        x = json.loads(x)\n",
    "        return x\n",
    "    except:\n",
    "        print(x)\n",
    "        return {}\n",
    "\n",
    "df['ClearedBody2'] = df['ClearedBody'].apply(clean)"
   ]
  },
  {
   "cell_type": "code",
   "execution_count": 8,
   "metadata": {},
   "outputs": [
    {
     "ename": "OSError",
     "evalue": "[Errno 28] No space left on device",
     "output_type": "error",
     "traceback": [
      "\u001b[0;31m---------------------------------------------------------------------------\u001b[0m",
      "\u001b[0;31mOSError\u001b[0m                                   Traceback (most recent call last)",
      "Input \u001b[0;32mIn [8]\u001b[0m, in \u001b[0;36m<cell line: 3>\u001b[0;34m()\u001b[0m\n\u001b[1;32m      1\u001b[0m \u001b[38;5;66;03m# Save and load as pickle\u001b[39;00m\n\u001b[1;32m      2\u001b[0m \u001b[38;5;28;01mimport\u001b[39;00m \u001b[38;5;21;01mpandas\u001b[39;00m \u001b[38;5;28;01mas\u001b[39;00m \u001b[38;5;21;01mpd\u001b[39;00m\n\u001b[0;32m----> 3\u001b[0m \u001b[43mdf\u001b[49m\u001b[38;5;241;43m.\u001b[39;49m\u001b[43mto_pickle\u001b[49m\u001b[43m(\u001b[49m\u001b[38;5;124;43m'\u001b[39;49m\u001b[38;5;124;43m/Users/pranjal/Downloads/data_clean.pkl\u001b[39;49m\u001b[38;5;124;43m'\u001b[39;49m\u001b[43m)\u001b[49m\n",
      "File \u001b[0;32m/usr/local/lib/python3.9/site-packages/pandas/core/generic.py:2864\u001b[0m, in \u001b[0;36mNDFrame.to_pickle\u001b[0;34m(self, path, compression, protocol, storage_options)\u001b[0m\n\u001b[1;32m   2801\u001b[0m \u001b[38;5;124;03m\"\"\"\u001b[39;00m\n\u001b[1;32m   2802\u001b[0m \u001b[38;5;124;03mPickle (serialize) object to file.\u001b[39;00m\n\u001b[1;32m   2803\u001b[0m \n\u001b[0;32m   (...)\u001b[0m\n\u001b[1;32m   2860\u001b[0m \u001b[38;5;124;03m>>> os.remove(\"./dummy.pkl\")\u001b[39;00m\n\u001b[1;32m   2861\u001b[0m \u001b[38;5;124;03m\"\"\"\u001b[39;00m\n\u001b[1;32m   2862\u001b[0m \u001b[38;5;28;01mfrom\u001b[39;00m \u001b[38;5;21;01mpandas\u001b[39;00m\u001b[38;5;21;01m.\u001b[39;00m\u001b[38;5;21;01mio\u001b[39;00m\u001b[38;5;21;01m.\u001b[39;00m\u001b[38;5;21;01mpickle\u001b[39;00m \u001b[38;5;28;01mimport\u001b[39;00m to_pickle\n\u001b[0;32m-> 2864\u001b[0m \u001b[43mto_pickle\u001b[49m\u001b[43m(\u001b[49m\n\u001b[1;32m   2865\u001b[0m \u001b[43m    \u001b[49m\u001b[38;5;28;43mself\u001b[39;49m\u001b[43m,\u001b[49m\n\u001b[1;32m   2866\u001b[0m \u001b[43m    \u001b[49m\u001b[43mpath\u001b[49m\u001b[43m,\u001b[49m\n\u001b[1;32m   2867\u001b[0m \u001b[43m    \u001b[49m\u001b[43mcompression\u001b[49m\u001b[38;5;241;43m=\u001b[39;49m\u001b[43mcompression\u001b[49m\u001b[43m,\u001b[49m\n\u001b[1;32m   2868\u001b[0m \u001b[43m    \u001b[49m\u001b[43mprotocol\u001b[49m\u001b[38;5;241;43m=\u001b[39;49m\u001b[43mprotocol\u001b[49m\u001b[43m,\u001b[49m\n\u001b[1;32m   2869\u001b[0m \u001b[43m    \u001b[49m\u001b[43mstorage_options\u001b[49m\u001b[38;5;241;43m=\u001b[39;49m\u001b[43mstorage_options\u001b[49m\u001b[43m,\u001b[49m\n\u001b[1;32m   2870\u001b[0m \u001b[43m\u001b[49m\u001b[43m)\u001b[49m\n",
      "File \u001b[0;32m/usr/local/lib/python3.9/site-packages/pandas/io/pickle.py:107\u001b[0m, in \u001b[0;36mto_pickle\u001b[0;34m(obj, filepath_or_buffer, compression, protocol, storage_options)\u001b[0m\n\u001b[1;32m    102\u001b[0m     handles\u001b[38;5;241m.\u001b[39mhandle\u001b[38;5;241m.\u001b[39mwrite(\n\u001b[1;32m    103\u001b[0m         pickle\u001b[38;5;241m.\u001b[39mdumps(obj, protocol\u001b[38;5;241m=\u001b[39mprotocol)  \u001b[38;5;66;03m# type: ignore[arg-type]\u001b[39;00m\n\u001b[1;32m    104\u001b[0m     )\n\u001b[1;32m    105\u001b[0m \u001b[38;5;28;01melse\u001b[39;00m:\n\u001b[1;32m    106\u001b[0m     \u001b[38;5;66;03m# letting pickle write directly to the buffer is more memory-efficient\u001b[39;00m\n\u001b[0;32m--> 107\u001b[0m     \u001b[43mpickle\u001b[49m\u001b[38;5;241;43m.\u001b[39;49m\u001b[43mdump\u001b[49m\u001b[43m(\u001b[49m\n\u001b[1;32m    108\u001b[0m \u001b[43m        \u001b[49m\u001b[43mobj\u001b[49m\u001b[43m,\u001b[49m\u001b[43m \u001b[49m\u001b[43mhandles\u001b[49m\u001b[38;5;241;43m.\u001b[39;49m\u001b[43mhandle\u001b[49m\u001b[43m,\u001b[49m\u001b[43m \u001b[49m\u001b[43mprotocol\u001b[49m\u001b[38;5;241;43m=\u001b[39;49m\u001b[43mprotocol\u001b[49m\u001b[43m  \u001b[49m\u001b[38;5;66;43;03m# type: ignore[arg-type]\u001b[39;49;00m\n\u001b[1;32m    109\u001b[0m \u001b[43m    \u001b[49m\u001b[43m)\u001b[49m\n",
      "\u001b[0;31mOSError\u001b[0m: [Errno 28] No space left on device"
     ]
    }
   ],
   "source": [
    "# Save and load as pickle\n",
    "import pandas as pd\n",
    "df.to_pickle('/Users/pranjal/Downloads/data_clean.pkl')\n",
    "#df = pd.read_pickle('/Users/pranjal/Downloads/data_clean.pkl')"
   ]
  },
  {
   "cell_type": "code",
   "execution_count": 4,
   "metadata": {},
   "outputs": [],
   "source": [
    "df.drop(['body'], axis = 1, inplace = True)"
   ]
  },
  {
   "cell_type": "code",
   "execution_count": 1,
   "metadata": {},
   "outputs": [],
   "source": [
    "# Save and load as pickle\n",
    "import pandas as pd\n",
    "#df.to_pickle('/Users/pranjal/Downloads/data_clean.pkl')\n",
    "df = pd.read_pickle('/Users/pranjal/Downloads/data_clean.pkl')"
   ]
  },
  {
   "cell_type": "code",
   "execution_count": 2,
   "metadata": {},
   "outputs": [
    {
     "data": {
      "text/html": [
       "<div>\n",
       "<style scoped>\n",
       "    .dataframe tbody tr th:only-of-type {\n",
       "        vertical-align: middle;\n",
       "    }\n",
       "\n",
       "    .dataframe tbody tr th {\n",
       "        vertical-align: top;\n",
       "    }\n",
       "\n",
       "    .dataframe thead th {\n",
       "        text-align: right;\n",
       "    }\n",
       "</style>\n",
       "<table border=\"1\" class=\"dataframe\">\n",
       "  <thead>\n",
       "    <tr style=\"text-align: right;\">\n",
       "      <th></th>\n",
       "      <th>userid</th>\n",
       "      <th>event</th>\n",
       "      <th>msgid</th>\n",
       "      <th>cts</th>\n",
       "      <th>body_clean</th>\n",
       "    </tr>\n",
       "  </thead>\n",
       "  <tbody>\n",
       "    <tr>\n",
       "      <th>1</th>\n",
       "      <td>02542fb7-9ee9-49f9-b17f-e7f6c841c9bb</td>\n",
       "      <td>NudgeCreated</td>\n",
       "      <td>852618c20ec54ef69ad8c7b64f7ad564</td>\n",
       "      <td>2021-10-16T08:09:25.000Z</td>\n",
       "      <td>{'message': 'Con i Gruppi di Spesa u00e8 facil...</td>\n",
       "    </tr>\n",
       "    <tr>\n",
       "      <th>2</th>\n",
       "      <td>02542fb7-9ee9-49f9-b17f-e7f6c841c9bb</td>\n",
       "      <td>NudgeCreated</td>\n",
       "      <td>cb8e47a582b940d3ab93ba9ec8339bc1</td>\n",
       "      <td>2021-10-22T08:14:28.000Z</td>\n",
       "      <td>{'message': 'Segui la rotta dei video Focus pe...</td>\n",
       "    </tr>\n",
       "    <tr>\n",
       "      <th>3</th>\n",
       "      <td>02542fb7-9ee9-49f9-b17f-e7f6c841c9bb</td>\n",
       "      <td>UserSignedIn</td>\n",
       "      <td>a5e17409-3ac8-4be9-8058-8c0031c14855</td>\n",
       "      <td>2021-12-25T00:17:49.000Z</td>\n",
       "      <td>{'deviceCode': 'a44e3f40-511c-452a-99c8-7be335...</td>\n",
       "    </tr>\n",
       "    <tr>\n",
       "      <th>4</th>\n",
       "      <td>02542fb7-9ee9-49f9-b17f-e7f6c841c9bb</td>\n",
       "      <td>UserSignedIn</td>\n",
       "      <td>e1a14dbe-adc8-4eb9-b043-fd7315e9234f</td>\n",
       "      <td>2021-09-30T12:51:36.000Z</td>\n",
       "      <td>{'deviceCode': 'a7ebd2ee-72aa-45fc-9825-246bc5...</td>\n",
       "    </tr>\n",
       "    <tr>\n",
       "      <th>5</th>\n",
       "      <td>02542fb7-9ee9-49f9-b17f-e7f6c841c9bb</td>\n",
       "      <td>UserSignedIn</td>\n",
       "      <td>c58d4b23-da8d-4e62-983a-a7ae1bc7d00f</td>\n",
       "      <td>2021-10-08T08:18:05.000Z</td>\n",
       "      <td>{'deviceCode': 'a44e3f40-511c-452a-99c8-7be335...</td>\n",
       "    </tr>\n",
       "  </tbody>\n",
       "</table>\n",
       "</div>"
      ],
      "text/plain": [
       "                                 userid         event  \\\n",
       "1  02542fb7-9ee9-49f9-b17f-e7f6c841c9bb  NudgeCreated   \n",
       "2  02542fb7-9ee9-49f9-b17f-e7f6c841c9bb  NudgeCreated   \n",
       "3  02542fb7-9ee9-49f9-b17f-e7f6c841c9bb  UserSignedIn   \n",
       "4  02542fb7-9ee9-49f9-b17f-e7f6c841c9bb  UserSignedIn   \n",
       "5  02542fb7-9ee9-49f9-b17f-e7f6c841c9bb  UserSignedIn   \n",
       "\n",
       "                                  msgid                       cts  \\\n",
       "1      852618c20ec54ef69ad8c7b64f7ad564  2021-10-16T08:09:25.000Z   \n",
       "2      cb8e47a582b940d3ab93ba9ec8339bc1  2021-10-22T08:14:28.000Z   \n",
       "3  a5e17409-3ac8-4be9-8058-8c0031c14855  2021-12-25T00:17:49.000Z   \n",
       "4  e1a14dbe-adc8-4eb9-b043-fd7315e9234f  2021-09-30T12:51:36.000Z   \n",
       "5  c58d4b23-da8d-4e62-983a-a7ae1bc7d00f  2021-10-08T08:18:05.000Z   \n",
       "\n",
       "                                          body_clean  \n",
       "1  {'message': 'Con i Gruppi di Spesa u00e8 facil...  \n",
       "2  {'message': 'Segui la rotta dei video Focus pe...  \n",
       "3  {'deviceCode': 'a44e3f40-511c-452a-99c8-7be335...  \n",
       "4  {'deviceCode': 'a7ebd2ee-72aa-45fc-9825-246bc5...  \n",
       "5  {'deviceCode': 'a44e3f40-511c-452a-99c8-7be335...  "
      ]
     },
     "execution_count": 2,
     "metadata": {},
     "output_type": "execute_result"
    }
   ],
   "source": [
    "df.head()"
   ]
  },
  {
   "cell_type": "code",
   "execution_count": null,
   "metadata": {},
   "outputs": [],
   "source": [
    "# Converting \"body\" Json contents into individual columns\n",
    "import pandas as pd\n",
    "df2 = pd.json_normalize(df['body_clean'])\n",
    "df2 = df.join(df2)\n",
    "df2.drop(['body_clean'], axis = 1, inplace = True)\n",
    "df2['date'] = pd.to_datetime(df2.cts).dt.date\n",
    "df2['yearmonth'] = pd.to_datetime(df2.cts).dt.to_period('M')\n",
    "df2.head()"
   ]
  },
  {
   "cell_type": "code",
   "execution_count": null,
   "metadata": {},
   "outputs": [],
   "source": [
    "# Save and load as pickle\n",
    "import pandas as pd\n",
    "df.to_pickle('/Users/pranjal/Downloads/data_clean2.pkl')\n",
    "#df = pd.read_pickle('/Users/pranjal/Downloads/data_clean2.pkl')"
   ]
  },
  {
   "cell_type": "code",
   "execution_count": null,
   "metadata": {},
   "outputs": [],
   "source": [
    "# Storing the data into event types\n",
    "eventTypes = list(df2.event.value_counts().index)\n",
    "OUTPATH = '/Users/pranjal/Downloads/'\n",
    "for i in eventTypes:\n",
    "    df2[df2.event == i].to_pickle(OUTPATH + str(i) + '.pkl')\n",
    "df3.to_pickle(OUTPATH + 'cleaned' + '.pkl')"
   ]
  },
  {
   "cell_type": "markdown",
   "metadata": {},
   "source": [
    "# Full table"
   ]
  },
  {
   "cell_type": "code",
   "execution_count": null,
   "metadata": {
    "scrolled": true
   },
   "outputs": [],
   "source": [
    "# Null Counts\n",
    "df2.isnull().sum()/df2.shape[0]"
   ]
  },
  {
   "cell_type": "code",
   "execution_count": null,
   "metadata": {},
   "outputs": [],
   "source": [
    "df2.event.value_counts()/df2.shape[0]"
   ]
  },
  {
   "cell_type": "code",
   "execution_count": null,
   "metadata": {},
   "outputs": [],
   "source": [
    "# Events over time\n",
    "from matplotlib.pyplot import figure\n",
    "figure(figsize=(10, 10), dpi=80)\n",
    "import matplotlib.pyplot as plt\n",
    "df2.date.value_counts().plot()"
   ]
  },
  {
   "cell_type": "markdown",
   "metadata": {},
   "source": [
    "# Event \"Usersignin\""
   ]
  },
  {
   "cell_type": "code",
   "execution_count": null,
   "metadata": {},
   "outputs": [],
   "source": [
    "df3 = df2[df2.event = \"\" ]"
   ]
  },
  {
   "cell_type": "code",
   "execution_count": null,
   "metadata": {},
   "outputs": [],
   "source": []
  },
  {
   "cell_type": "code",
   "execution_count": null,
   "metadata": {},
   "outputs": [],
   "source": []
  }
 ],
 "metadata": {
  "kernelspec": {
   "display_name": "Python 3 (ipykernel)",
   "language": "python",
   "name": "python3"
  },
  "language_info": {
   "codemirror_mode": {
    "name": "ipython",
    "version": 3
   },
   "file_extension": ".py",
   "mimetype": "text/x-python",
   "name": "python",
   "nbconvert_exporter": "python",
   "pygments_lexer": "ipython3",
   "version": "3.10.5"
  }
 },
 "nbformat": 4,
 "nbformat_minor": 4
}
