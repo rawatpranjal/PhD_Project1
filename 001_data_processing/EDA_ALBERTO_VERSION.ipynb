{
 "cells": [
  {
   "cell_type": "code",
   "execution_count": 1,
   "metadata": {},
   "outputs": [],
   "source": [
    "# Tasks\n",
    "# 1. data extraction, column naming, value counts, summary stats, \n",
    "# 2. load full data (partial columns, full columns, random sample)\n",
    "# 3. nlp on body, date counts, usr and msg distinct counts, skip\n",
    "# 4. figure out what the max col usage is for, and what does each of the filler columns mean\n",
    "# 5. json extraction"
   ]
  },
  {
   "cell_type": "markdown",
   "metadata": {},
   "source": [
    "# Data Processing"
   ]
  },
  {
   "cell_type": "code",
   "execution_count": 1,
   "metadata": {},
   "outputs": [
    {
     "name": "stderr",
     "output_type": "stream",
     "text": [
      "\n",
      "KeyboardInterrupt\n",
      "\n"
     ]
    }
   ],
   "source": [
    "# Read raw data and load fraction (p) \n",
    "INPATH = '/Users/albertorossi/Alberto_Georgetown Dropbox/Alberto Rossi/Gtown/Flowe/0_Data_Codes/0_Raw_Data/part-00000-tid-7073521145656742331-3e06173f-1926-41aa-b3b7-847006329acc-4624-1-c000.csv'\n",
    "column_names = ['userid', 'event', 'msgid', 'cts', 'body']\n",
    "import pandas as pd\n",
    "import random\n",
    "p =0.05\n",
    "df = pd.read_csv(INPATH, \n",
    "                 error_bad_lines = False, \n",
    "                 names = column_names, \n",
    "                 nrows = 1000000,\n",
    "                 skiprows=lambda i: i>0 and random.random() > p\n",
    "                ) #skiprows = 460953, nrows = 200000)\n",
    "\n",
    "df = df[1:]\n",
    "\n",
    "print(df.shape)\n",
    "df.head()"
   ]
  },
  {
   "cell_type": "code",
   "execution_count": 10,
   "metadata": {},
   "outputs": [
    {
     "data": {
      "text/plain": [
       "1         {'deviceCode': 'a44e3f40-511c-452a-99c8-7be335...\n",
       "2                                     {'rowId': '12212310'}\n",
       "3         {'deviceCode': 'a070a268-5417-4450-9414-8cf986...\n",
       "4         {'deviceCode': 'a070a268-5417-4450-9414-8cf986...\n",
       "5         {'deviceCode': 'a070a268-5417-4450-9414-8cf986...\n",
       "                                ...                        \n",
       "923446                  {'transactionId': 'ACLK2107477003'}\n",
       "923447    {'userId': 'ffa18ab0-c2de-469b-9561-4f062d2660...\n",
       "923448    {'userId': 'ffa18ab0-c2de-469b-9561-4f062d2660...\n",
       "923449    {'deviceCode': 'a3a386be-edca-4950-9aed-7267d8...\n",
       "923450    {'deviceCode': 'a3a386be-edca-4950-9aed-7267d8...\n",
       "Name: body_clean, Length: 923450, dtype: object"
      ]
     },
     "execution_count": 10,
     "metadata": {},
     "output_type": "execute_result"
    }
   ],
   "source": [
    "# Cleaning the \"Body\" json\n",
    "import json\n",
    "def clean(x):\n",
    "    x = x.replace(\"\\\\\", \"\")\n",
    "    x = x.replace(\"/\", \"\")\n",
    "    x = x + \"}\"\n",
    "    x = x.replace(\"{\", \"{\\\"\")\n",
    "    x = x.replace(\"\\\\\", \"\")\n",
    "    x = x.replace(\"}\", \"\\\"}\")\n",
    "    x = x.replace(\": \", \": \\\"\")\n",
    "    x = x.replace(\"\\\"\\\"\", \"\\\"\")\n",
    "    x = x.replace(\"\\\"}\\\"}\", \"\\\"}\")\n",
    "    #print(x)\n",
    "    x = json.loads(x)\n",
    "    return x\n",
    "\n",
    "df['body_clean']= df['body'].apply(clean)\n",
    "df['body_clean']"
   ]
  },
  {
   "cell_type": "code",
   "execution_count": 11,
   "metadata": {},
   "outputs": [
    {
     "name": "stderr",
     "output_type": "stream",
     "text": [
      "/Users/albertorossi/anaconda3/lib/python3.7/site-packages/pandas/core/arrays/datetimes.py:1146: UserWarning: Converting to PeriodArray/Index representation will drop timezone information.\n",
      "  UserWarning,\n"
     ]
    },
    {
     "data": {
      "text/html": [
       "<div>\n",
       "<style scoped>\n",
       "    .dataframe tbody tr th:only-of-type {\n",
       "        vertical-align: middle;\n",
       "    }\n",
       "\n",
       "    .dataframe tbody tr th {\n",
       "        vertical-align: top;\n",
       "    }\n",
       "\n",
       "    .dataframe thead th {\n",
       "        text-align: right;\n",
       "    }\n",
       "</style>\n",
       "<table border=\"1\" class=\"dataframe\">\n",
       "  <thead>\n",
       "    <tr style=\"text-align: right;\">\n",
       "      <th></th>\n",
       "      <th>userid</th>\n",
       "      <th>event</th>\n",
       "      <th>msgid</th>\n",
       "      <th>cts</th>\n",
       "      <th>deviceCode</th>\n",
       "      <th>rowId</th>\n",
       "      <th>transactionId</th>\n",
       "      <th>message</th>\n",
       "      <th>userId</th>\n",
       "      <th>currentLoyaltyLevel</th>\n",
       "      <th>treeId</th>\n",
       "      <th>nudgeId</th>\n",
       "      <th>loyaltyLevel</th>\n",
       "      <th>cardType</th>\n",
       "      <th>activationAmount</th>\n",
       "      <th>creationDate</th>\n",
       "      <th>product</th>\n",
       "      <th>birthDate</th>\n",
       "      <th>date</th>\n",
       "      <th>yearmonth</th>\n",
       "    </tr>\n",
       "  </thead>\n",
       "  <tbody>\n",
       "    <tr>\n",
       "      <th>1</th>\n",
       "      <td>02542fb7-9ee9-49f9-b17f-e7f6c841c9bb</td>\n",
       "      <td>UserSignedIn</td>\n",
       "      <td>a5e17409-3ac8-4be9-8058-8c0031c14855</td>\n",
       "      <td>2021-12-25T00:17:49.000Z</td>\n",
       "      <td>NaN</td>\n",
       "      <td>12212310</td>\n",
       "      <td>NaN</td>\n",
       "      <td>NaN</td>\n",
       "      <td>NaN</td>\n",
       "      <td>NaN</td>\n",
       "      <td>NaN</td>\n",
       "      <td>NaN</td>\n",
       "      <td>NaN</td>\n",
       "      <td>NaN</td>\n",
       "      <td>NaN</td>\n",
       "      <td>NaN</td>\n",
       "      <td>NaN</td>\n",
       "      <td>NaN</td>\n",
       "      <td>2021-12-25</td>\n",
       "      <td>2021-12</td>\n",
       "    </tr>\n",
       "    <tr>\n",
       "      <th>2</th>\n",
       "      <td>02650cc5-b4da-483a-96cc-4b6a5119a808</td>\n",
       "      <td>TransactionConfirmed</td>\n",
       "      <td>eaaeef66-26cd-4931-9b33-f6ec7fa1835a</td>\n",
       "      <td>2022-02-08T13:26:15.000Z</td>\n",
       "      <td>a070a268-5417-4450-9414-8cf98682c453</td>\n",
       "      <td>NaN</td>\n",
       "      <td>NaN</td>\n",
       "      <td>NaN</td>\n",
       "      <td>NaN</td>\n",
       "      <td>NaN</td>\n",
       "      <td>NaN</td>\n",
       "      <td>NaN</td>\n",
       "      <td>NaN</td>\n",
       "      <td>NaN</td>\n",
       "      <td>NaN</td>\n",
       "      <td>NaN</td>\n",
       "      <td>NaN</td>\n",
       "      <td>NaN</td>\n",
       "      <td>2022-02-08</td>\n",
       "      <td>2022-02</td>\n",
       "    </tr>\n",
       "    <tr>\n",
       "      <th>3</th>\n",
       "      <td>02650cc5-b4da-483a-96cc-4b6a5119a808</td>\n",
       "      <td>UserSignedIn</td>\n",
       "      <td>b0390b86-e6fb-4f9a-a267-5eafec1ad00b</td>\n",
       "      <td>2022-05-10T10:42:44.000Z</td>\n",
       "      <td>a070a268-5417-4450-9414-8cf98682c453</td>\n",
       "      <td>NaN</td>\n",
       "      <td>NaN</td>\n",
       "      <td>NaN</td>\n",
       "      <td>NaN</td>\n",
       "      <td>NaN</td>\n",
       "      <td>NaN</td>\n",
       "      <td>NaN</td>\n",
       "      <td>NaN</td>\n",
       "      <td>NaN</td>\n",
       "      <td>NaN</td>\n",
       "      <td>NaN</td>\n",
       "      <td>NaN</td>\n",
       "      <td>NaN</td>\n",
       "      <td>2022-05-10</td>\n",
       "      <td>2022-05</td>\n",
       "    </tr>\n",
       "    <tr>\n",
       "      <th>4</th>\n",
       "      <td>02650cc5-b4da-483a-96cc-4b6a5119a808</td>\n",
       "      <td>UserSignedIn</td>\n",
       "      <td>59c8fc3f-9a50-4e3e-9ea1-86d054e9bd53</td>\n",
       "      <td>2022-05-10T10:08:59.000Z</td>\n",
       "      <td>a070a268-5417-4450-9414-8cf98682c453</td>\n",
       "      <td>NaN</td>\n",
       "      <td>NaN</td>\n",
       "      <td>NaN</td>\n",
       "      <td>NaN</td>\n",
       "      <td>NaN</td>\n",
       "      <td>NaN</td>\n",
       "      <td>NaN</td>\n",
       "      <td>NaN</td>\n",
       "      <td>NaN</td>\n",
       "      <td>NaN</td>\n",
       "      <td>NaN</td>\n",
       "      <td>NaN</td>\n",
       "      <td>NaN</td>\n",
       "      <td>2022-05-10</td>\n",
       "      <td>2022-05</td>\n",
       "    </tr>\n",
       "    <tr>\n",
       "      <th>5</th>\n",
       "      <td>02650cc5-b4da-483a-96cc-4b6a5119a808</td>\n",
       "      <td>UserSignedIn</td>\n",
       "      <td>abeedb3a-024f-4be7-866e-491fb1d06ea0</td>\n",
       "      <td>2022-04-22T16:40:38.000Z</td>\n",
       "      <td>NaN</td>\n",
       "      <td>13018019</td>\n",
       "      <td>NaN</td>\n",
       "      <td>NaN</td>\n",
       "      <td>NaN</td>\n",
       "      <td>NaN</td>\n",
       "      <td>NaN</td>\n",
       "      <td>NaN</td>\n",
       "      <td>NaN</td>\n",
       "      <td>NaN</td>\n",
       "      <td>NaN</td>\n",
       "      <td>NaN</td>\n",
       "      <td>NaN</td>\n",
       "      <td>NaN</td>\n",
       "      <td>2022-04-22</td>\n",
       "      <td>2022-04</td>\n",
       "    </tr>\n",
       "  </tbody>\n",
       "</table>\n",
       "</div>"
      ],
      "text/plain": [
       "                                 userid                 event  \\\n",
       "1  02542fb7-9ee9-49f9-b17f-e7f6c841c9bb          UserSignedIn   \n",
       "2  02650cc5-b4da-483a-96cc-4b6a5119a808  TransactionConfirmed   \n",
       "3  02650cc5-b4da-483a-96cc-4b6a5119a808          UserSignedIn   \n",
       "4  02650cc5-b4da-483a-96cc-4b6a5119a808          UserSignedIn   \n",
       "5  02650cc5-b4da-483a-96cc-4b6a5119a808          UserSignedIn   \n",
       "\n",
       "                                  msgid                       cts  \\\n",
       "1  a5e17409-3ac8-4be9-8058-8c0031c14855  2021-12-25T00:17:49.000Z   \n",
       "2  eaaeef66-26cd-4931-9b33-f6ec7fa1835a  2022-02-08T13:26:15.000Z   \n",
       "3  b0390b86-e6fb-4f9a-a267-5eafec1ad00b  2022-05-10T10:42:44.000Z   \n",
       "4  59c8fc3f-9a50-4e3e-9ea1-86d054e9bd53  2022-05-10T10:08:59.000Z   \n",
       "5  abeedb3a-024f-4be7-866e-491fb1d06ea0  2022-04-22T16:40:38.000Z   \n",
       "\n",
       "                             deviceCode     rowId transactionId message  \\\n",
       "1                                   NaN  12212310           NaN     NaN   \n",
       "2  a070a268-5417-4450-9414-8cf98682c453       NaN           NaN     NaN   \n",
       "3  a070a268-5417-4450-9414-8cf98682c453       NaN           NaN     NaN   \n",
       "4  a070a268-5417-4450-9414-8cf98682c453       NaN           NaN     NaN   \n",
       "5                                   NaN  13018019           NaN     NaN   \n",
       "\n",
       "  userId currentLoyaltyLevel treeId nudgeId loyaltyLevel cardType  \\\n",
       "1    NaN                 NaN    NaN     NaN          NaN      NaN   \n",
       "2    NaN                 NaN    NaN     NaN          NaN      NaN   \n",
       "3    NaN                 NaN    NaN     NaN          NaN      NaN   \n",
       "4    NaN                 NaN    NaN     NaN          NaN      NaN   \n",
       "5    NaN                 NaN    NaN     NaN          NaN      NaN   \n",
       "\n",
       "  activationAmount creationDate product birthDate        date yearmonth  \n",
       "1              NaN          NaN     NaN       NaN  2021-12-25   2021-12  \n",
       "2              NaN          NaN     NaN       NaN  2022-02-08   2022-02  \n",
       "3              NaN          NaN     NaN       NaN  2022-05-10   2022-05  \n",
       "4              NaN          NaN     NaN       NaN  2022-05-10   2022-05  \n",
       "5              NaN          NaN     NaN       NaN  2022-04-22   2022-04  "
      ]
     },
     "execution_count": 11,
     "metadata": {},
     "output_type": "execute_result"
    }
   ],
   "source": [
    "# Converting \"body\" Json contents into indivisual columns\n",
    "import pandas as pd\n",
    "df2 = pd.json_normalize(df['body_clean'])\n",
    "df3 = df.join(df2)\n",
    "df3.drop(['body', 'body_clean'], axis = 1, inplace = True)\n",
    "df3['date'] = pd.to_datetime(df.cts).dt.date\n",
    "df3['yearmonth'] = pd.to_datetime(df.cts).dt.to_period('M')\n",
    "df3.head()"
   ]
  },
  {
   "cell_type": "code",
   "execution_count": 5,
   "metadata": {},
   "outputs": [],
   "source": [
    "# Storing the data into event types\n",
    "eventTypes = list(df3.event.value_counts().index)\n",
    "OUTPATH = '/Users/pranjal/Downloads/'\n",
    "for i in eventTypes:\n",
    "    df3[df3.event == i].to_csv(OUTPATH + str(i) + '.csv')\n",
    "df3.to_csv(OUTPATH + 'cleaned' + '.csv')"
   ]
  },
  {
   "cell_type": "markdown",
   "metadata": {},
   "source": [
    "# Basic Analytics"
   ]
  },
  {
   "cell_type": "code",
   "execution_count": 6,
   "metadata": {
    "scrolled": true
   },
   "outputs": [
    {
     "data": {
      "text/plain": [
       "userid                     0\n",
       "event                      0\n",
       "msgid                      0\n",
       "cts                       12\n",
       "message                96758\n",
       "rowId                  74645\n",
       "deviceCode             41088\n",
       "userId                 94284\n",
       "transactionId          94593\n",
       "currentLoyaltyLevel    99638\n",
       "cardType               99956\n",
       "nudgeId                99317\n",
       "treeId                 99854\n",
       "activationAmount       99931\n",
       "loyaltyLevel           99968\n",
       "creationDate           99971\n",
       "product                99986\n",
       "date                      12\n",
       "yearmonth                 12\n",
       "dtype: int64"
      ]
     },
     "execution_count": 6,
     "metadata": {},
     "output_type": "execute_result"
    }
   ],
   "source": [
    "# Null Counts\n",
    "df3.isnull().sum()"
   ]
  },
  {
   "cell_type": "code",
   "execution_count": 7,
   "metadata": {},
   "outputs": [
    {
     "data": {
      "text/plain": [
       "UserSignedIn              58911\n",
       "TransactionConfirmed      15125\n",
       "EcoBalanceDataComputed    10229\n",
       "NudgeCreated               8964\n",
       "TransactionCreated         5406\n",
       "NudgeRead                   682\n",
       "LoyaltyLevelChanged         361\n",
       "TreeAcquired                145\n",
       "PhysicalCardRequested        90\n",
       "SubscriptionActivated        86\n",
       "Name: event, dtype: int64"
      ]
     },
     "execution_count": 7,
     "metadata": {},
     "output_type": "execute_result"
    }
   ],
   "source": [
    "df3.event.value_counts()"
   ]
  },
  {
   "cell_type": "code",
   "execution_count": 9,
   "metadata": {},
   "outputs": [
    {
     "name": "stderr",
     "output_type": "stream",
     "text": [
      "/usr/local/lib/python3.8/site-packages/pandas/plotting/_matplotlib/converter.py:256: MatplotlibDeprecationWarning: \n",
      "The epoch2num function was deprecated in Matplotlib 3.3 and will be removed two minor releases later.\n",
      "  base = dates.epoch2num(dt.asi8 / 1.0e9)\n"
     ]
    },
    {
     "data": {
      "text/plain": [
       "<AxesSubplot:>"
      ]
     },
     "execution_count": 9,
     "metadata": {},
     "output_type": "execute_result"
    },
    {
     "data": {
      "image/png": "[encoded data removed]",
      "text/plain": [
       "<Figure size 800x800 with 1 Axes>"
      ]
     },
     "metadata": {
      "needs_background": "light"
     },
     "output_type": "display_data"
    }
   ],
   "source": [
    "# Events over time\n",
    "from matplotlib.pyplot import figure\n",
    "figure(figsize=(10, 10), dpi=80)\n",
    "import matplotlib.pyplot as plt\n",
    "df3.date.value_counts().plot()"
   ]
  },
  {
   "cell_type": "code",
   "execution_count": null,
   "metadata": {},
   "outputs": [],
   "source": []
  },
  {
   "cell_type": "code",
   "execution_count": null,
   "metadata": {},
   "outputs": [],
   "source": []
  },
  {
   "cell_type": "code",
   "execution_count": null,
   "metadata": {},
   "outputs": [],
   "source": []
  },
  {
   "cell_type": "code",
   "execution_count": null,
   "metadata": {},
   "outputs": [],
   "source": []
  }
 ],
 "metadata": {
  "kernelspec": {
   "display_name": "Python 3 (ipykernel)",
   "language": "python",
   "name": "python3"
  },
  "language_info": {
   "codemirror_mode": {
    "name": "ipython",
    "version": 3
   },
   "file_extension": ".py",
   "mimetype": "text/x-python",
   "name": "python",
   "nbconvert_exporter": "python",
   "pygments_lexer": "ipython3",
   "version": "3.10.5"
  }
 },
 "nbformat": 4,
 "nbformat_minor": 4
}
