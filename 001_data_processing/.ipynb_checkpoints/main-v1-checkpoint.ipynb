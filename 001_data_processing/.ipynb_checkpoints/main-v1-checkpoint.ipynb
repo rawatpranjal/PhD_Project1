{
 "cells": [
  {
   "cell_type": "markdown",
   "id": "c0560254",
   "metadata": {},
   "source": [
    "# Data TID, Summary Counts \n",
    "- Events with timestamp and cleared body\n",
    "- Clearedbody breaks into 22 columns with sep=','; replace.\n",
    "- Total: 18,420,783\n",
    "- Nulls - Only 3 records dont have time stamp\n",
    "- Unique: UserId - 73584, MsgId - 18420733, \n",
    "- Percentage Events - 60% UserSignin, 15% TransConfirm, 10% ecobal, 10% nudgecreat, 5% transcreat, 4% risklvl, 4% loyaltylevl\n",
    "- Date - 2020-02-04 start, end - 2022-06-13"
   ]
  },
  {
   "cell_type": "markdown",
   "id": "29e3a724",
   "metadata": {},
   "source": [
    "# Step 1: Data Load\n",
    "- New separator for the data - replace the comma with 'π'\n",
    "- drop row for column name\n",
    "- recognize timestamp and create date, year-month columns\n",
    "- save as pickle to reduce space"
   ]
  },
  {
   "cell_type": "code",
   "execution_count": 75,
   "id": "2a493924",
   "metadata": {},
   "outputs": [],
   "source": [
    "IN = '/Users/pranjal/Downloads/data/part-00000-tid-7073521145656742331-3e06173f-1926-41aa-b3b7-847006329acc-4624-1-c000.csv'\n",
    "OUT = '/Users/pranjal/Downloads/data/part-00000-tid.csv'\n",
    "fin = open(IN, \"rt\")\n",
    "fout = open(OUT, \"wt\")\n",
    "for line in fin:\n",
    "\tfout.write(line.replace(',', 'π', 4))\n",
    "fin.close()\n",
    "fout.close()"
   ]
  },
  {
   "cell_type": "code",
   "execution_count": 76,
   "id": "b573f2fa",
   "metadata": {},
   "outputs": [
    {
     "data": {
      "text/plain": [
       "'sdfdsπsdfsdπsdfsdπsdfdsπ{sdfsd,sdfsd}π'"
      ]
     },
     "execution_count": 76,
     "metadata": {},
     "output_type": "execute_result"
    }
   ],
   "source": [
    "text = 'sdfds,sdfsd,sdfsd,sdfds,{sdfsd,sdfsd}' + 'π'\n",
    "text.replace(',', 'π', 4)"
   ]
  },
  {
   "cell_type": "code",
   "execution_count": 77,
   "id": "bdad8ffc",
   "metadata": {},
   "outputs": [
    {
     "name": "stdout",
     "output_type": "stream",
     "text": [
      "02542fb7-9ee9-49f9-b17f-e7f6c841c9bbπNudgeCreatedπ852618c20ec54ef69ad8c7b64f7ad564π2021-10-16T08:09:25.000Zπ\"{\\\"message\\\": \\\"Con i Gruppi di Spesa \\\\u00e8 facile come uno swipe.\\\", \\\"title\\\": \\\"Smezzare le spese con gli amici?\\\", \\\"NotificationChannel\\\": \\\"Push\\\", \\\"NotificationType\\\": \\\"goToCreateShared\\\", \\\"nudgeId\\\": \\\"7cb58262-82f5-433a-a366-39abddf3b690\\\", \\\"userId\\\": \\\"02542fb7-9ee9-49f9-b17f-e7f6c841c9bb\\\", \\\"creationDate\\\": \\\"2021-10-16T08:09:25.713847+00:00\\\", \\\"nudge\\\": \\\"FeatureDiscovery\\\"}\"\n",
      "\n",
      "02542fb7-9ee9-49f9-b17f-e7f6c841c9bbπNudgeCreatedπ0dbe5bca45904e31bceb87bd0d98955cπ2021-10-07T08:08:37.000Zπ\"{\\\"message\\\": \\\"Con il cashback BuyOn guadagni dai tuoi acquisti online.\\\", \\\"title\\\": \\\"Pi\\\\u00f9 compri, pi\\\\u00f9 guadagni!\\\", \\\"NotificationChannel\\\": \\\"Push\\\", \\\"NotificationType\\\": \\\"buyOnAction\\\", \\\"nudgeId\\\": \\\"bdc0a9e4-705b-43ab-b219-20d657de5854\\\", \\\"userId\\\": \\\"02542fb7-9ee9-49f9-b17f-e7f6c841c9bb\\\", \\\"creationDate\\\": \\\"2021-10-07T08:08:36.740171+00:00\\\", \\\"nudge\\\": \\\"FeatureDiscovery\\\"}\"\n",
      "\n"
     ]
    }
   ],
   "source": [
    "fp = open(OUT)\n",
    "for i, line in enumerate(fp):\n",
    "    if i == 1:\n",
    "        print(line)\n",
    "    elif i == 29:\n",
    "        print(line)\n",
    "    elif i > 29:\n",
    "        break\n",
    "fp.close()"
   ]
  },
  {
   "cell_type": "code",
   "execution_count": 113,
   "id": "bd288661",
   "metadata": {},
   "outputs": [
    {
     "name": "stderr",
     "output_type": "stream",
     "text": [
      "/var/folders/xt/r947d5fd2yz1_fkptq29sn8r0000gn/T/ipykernel_1365/1263484573.py:7: ParserWarning: Falling back to the 'python' engine because the separator encoded in utf-8 is > 1 char long, and the 'c' engine does not support such separators; you can avoid this warning by specifying engine='python'.\n",
      "  df = pd.read_csv(INPATH, nrows = 100000, quoting=3, sep = 'π', names = column_names\n"
     ]
    },
    {
     "name": "stdout",
     "output_type": "stream",
     "text": [
      "(99999, 5)\n"
     ]
    },
    {
     "data": {
      "text/html": [
       "<div>\n",
       "<style scoped>\n",
       "    .dataframe tbody tr th:only-of-type {\n",
       "        vertical-align: middle;\n",
       "    }\n",
       "\n",
       "    .dataframe tbody tr th {\n",
       "        vertical-align: top;\n",
       "    }\n",
       "\n",
       "    .dataframe thead th {\n",
       "        text-align: right;\n",
       "    }\n",
       "</style>\n",
       "<table border=\"1\" class=\"dataframe\">\n",
       "  <thead>\n",
       "    <tr style=\"text-align: right;\">\n",
       "      <th></th>\n",
       "      <th>UserId</th>\n",
       "      <th>IntegrationEvent</th>\n",
       "      <th>MessageId</th>\n",
       "      <th>CreationDateUtc</th>\n",
       "      <th>ClearedBody</th>\n",
       "    </tr>\n",
       "  </thead>\n",
       "  <tbody>\n",
       "    <tr>\n",
       "      <th>1</th>\n",
       "      <td>02542fb7-9ee9-49f9-b17f-e7f6c841c9bb</td>\n",
       "      <td>NudgeCreated</td>\n",
       "      <td>852618c20ec54ef69ad8c7b64f7ad564</td>\n",
       "      <td>2021-10-16T08:09:25.000Z</td>\n",
       "      <td>\"{\\\"message\\\": \\\"Con i Gruppi di Spesa \\\\u00e8...</td>\n",
       "    </tr>\n",
       "    <tr>\n",
       "      <th>2</th>\n",
       "      <td>02542fb7-9ee9-49f9-b17f-e7f6c841c9bb</td>\n",
       "      <td>NudgeCreated</td>\n",
       "      <td>cb8e47a582b940d3ab93ba9ec8339bc1</td>\n",
       "      <td>2021-10-22T08:14:28.000Z</td>\n",
       "      <td>\"{\\\"message\\\": \\\"Segui la rotta dei video Focu...</td>\n",
       "    </tr>\n",
       "    <tr>\n",
       "      <th>3</th>\n",
       "      <td>02542fb7-9ee9-49f9-b17f-e7f6c841c9bb</td>\n",
       "      <td>UserSignedIn</td>\n",
       "      <td>a5e17409-3ac8-4be9-8058-8c0031c14855</td>\n",
       "      <td>2021-12-25T00:17:49.000Z</td>\n",
       "      <td>\"{\\\"deviceCode\\\": \\\"a44e3f40-511c-452a-99c8-7b...</td>\n",
       "    </tr>\n",
       "    <tr>\n",
       "      <th>4</th>\n",
       "      <td>02542fb7-9ee9-49f9-b17f-e7f6c841c9bb</td>\n",
       "      <td>UserSignedIn</td>\n",
       "      <td>e1a14dbe-adc8-4eb9-b043-fd7315e9234f</td>\n",
       "      <td>2021-09-30T12:51:36.000Z</td>\n",
       "      <td>\"{\\\"deviceCode\\\": \\\"a7ebd2ee-72aa-45fc-9825-24...</td>\n",
       "    </tr>\n",
       "    <tr>\n",
       "      <th>5</th>\n",
       "      <td>02542fb7-9ee9-49f9-b17f-e7f6c841c9bb</td>\n",
       "      <td>UserSignedIn</td>\n",
       "      <td>c58d4b23-da8d-4e62-983a-a7ae1bc7d00f</td>\n",
       "      <td>2021-10-08T08:18:05.000Z</td>\n",
       "      <td>\"{\\\"deviceCode\\\": \\\"a44e3f40-511c-452a-99c8-7b...</td>\n",
       "    </tr>\n",
       "  </tbody>\n",
       "</table>\n",
       "</div>"
      ],
      "text/plain": [
       "                                 UserId IntegrationEvent  \\\n",
       "1  02542fb7-9ee9-49f9-b17f-e7f6c841c9bb     NudgeCreated   \n",
       "2  02542fb7-9ee9-49f9-b17f-e7f6c841c9bb     NudgeCreated   \n",
       "3  02542fb7-9ee9-49f9-b17f-e7f6c841c9bb     UserSignedIn   \n",
       "4  02542fb7-9ee9-49f9-b17f-e7f6c841c9bb     UserSignedIn   \n",
       "5  02542fb7-9ee9-49f9-b17f-e7f6c841c9bb     UserSignedIn   \n",
       "\n",
       "                              MessageId           CreationDateUtc  \\\n",
       "1      852618c20ec54ef69ad8c7b64f7ad564  2021-10-16T08:09:25.000Z   \n",
       "2      cb8e47a582b940d3ab93ba9ec8339bc1  2021-10-22T08:14:28.000Z   \n",
       "3  a5e17409-3ac8-4be9-8058-8c0031c14855  2021-12-25T00:17:49.000Z   \n",
       "4  e1a14dbe-adc8-4eb9-b043-fd7315e9234f  2021-09-30T12:51:36.000Z   \n",
       "5  c58d4b23-da8d-4e62-983a-a7ae1bc7d00f  2021-10-08T08:18:05.000Z   \n",
       "\n",
       "                                         ClearedBody  \n",
       "1  \"{\\\"message\\\": \\\"Con i Gruppi di Spesa \\\\u00e8...  \n",
       "2  \"{\\\"message\\\": \\\"Segui la rotta dei video Focu...  \n",
       "3  \"{\\\"deviceCode\\\": \\\"a44e3f40-511c-452a-99c8-7b...  \n",
       "4  \"{\\\"deviceCode\\\": \\\"a7ebd2ee-72aa-45fc-9825-24...  \n",
       "5  \"{\\\"deviceCode\\\": \\\"a44e3f40-511c-452a-99c8-7b...  "
      ]
     },
     "execution_count": 113,
     "metadata": {},
     "output_type": "execute_result"
    }
   ],
   "source": [
    "INPATH = '/Users/pranjal/Downloads/data/part-00000-tid.csv'\n",
    "column_names = ['UserId', 'IntegrationEvent', 'MessageId', 'CreationDateUtc', 'ClearedBody']\n",
    "\n",
    "import pandas as pd\n",
    "pd.set_option(\"display.precision\", 3)\n",
    "\n",
    "import random\n",
    "p = 0.1\n",
    "df = pd.read_csv(INPATH, nrows = 100000, quoting=3, sep = 'π', names = column_names\n",
    "                 #skiprows=lambda i: i>0 and random.random() > p\n",
    "                ) #skiprows = 460953, nrows = 200000)\n",
    "df = df[1:]\n",
    "print(df.shape)\n",
    "df.head()"
   ]
  },
  {
   "cell_type": "code",
   "execution_count": 114,
   "id": "6702bb60",
   "metadata": {},
   "outputs": [
    {
     "data": {
      "text/plain": [
       "UserId              object\n",
       "IntegrationEvent    object\n",
       "MessageId           object\n",
       "CreationDateUtc     object\n",
       "ClearedBody         object\n",
       "dtype: object"
      ]
     },
     "execution_count": 114,
     "metadata": {},
     "output_type": "execute_result"
    }
   ],
   "source": [
    "df.dtypes"
   ]
  },
  {
   "cell_type": "code",
   "execution_count": 115,
   "id": "b6915f81",
   "metadata": {},
   "outputs": [
    {
     "name": "stderr",
     "output_type": "stream",
     "text": [
      "/usr/local/Cellar/jupyterlab/3.4.3/libexec/lib/python3.10/site-packages/pandas/core/arrays/datetimes.py:1162: UserWarning: Converting to PeriodArray/Index representation will drop timezone information.\n",
      "  warnings.warn(\n"
     ]
    },
    {
     "data": {
      "text/html": [
       "<div>\n",
       "<style scoped>\n",
       "    .dataframe tbody tr th:only-of-type {\n",
       "        vertical-align: middle;\n",
       "    }\n",
       "\n",
       "    .dataframe tbody tr th {\n",
       "        vertical-align: top;\n",
       "    }\n",
       "\n",
       "    .dataframe thead th {\n",
       "        text-align: right;\n",
       "    }\n",
       "</style>\n",
       "<table border=\"1\" class=\"dataframe\">\n",
       "  <thead>\n",
       "    <tr style=\"text-align: right;\">\n",
       "      <th></th>\n",
       "      <th>UserId</th>\n",
       "      <th>IntegrationEvent</th>\n",
       "      <th>MessageId</th>\n",
       "      <th>CreationDateUtc</th>\n",
       "      <th>ClearedBody</th>\n",
       "      <th>date</th>\n",
       "      <th>yearmonth</th>\n",
       "    </tr>\n",
       "  </thead>\n",
       "  <tbody>\n",
       "    <tr>\n",
       "      <th>1</th>\n",
       "      <td>02542fb7-9ee9-49f9-b17f-e7f6c841c9bb</td>\n",
       "      <td>NudgeCreated</td>\n",
       "      <td>852618c20ec54ef69ad8c7b64f7ad564</td>\n",
       "      <td>2021-10-16 08:09:25+00:00</td>\n",
       "      <td>\"{\\\"message\\\": \\\"Con i Gruppi di Spesa \\\\u00e8...</td>\n",
       "      <td>2021-10-16</td>\n",
       "      <td>2021-10</td>\n",
       "    </tr>\n",
       "    <tr>\n",
       "      <th>2</th>\n",
       "      <td>02542fb7-9ee9-49f9-b17f-e7f6c841c9bb</td>\n",
       "      <td>NudgeCreated</td>\n",
       "      <td>cb8e47a582b940d3ab93ba9ec8339bc1</td>\n",
       "      <td>2021-10-22 08:14:28+00:00</td>\n",
       "      <td>\"{\\\"message\\\": \\\"Segui la rotta dei video Focu...</td>\n",
       "      <td>2021-10-22</td>\n",
       "      <td>2021-10</td>\n",
       "    </tr>\n",
       "    <tr>\n",
       "      <th>3</th>\n",
       "      <td>02542fb7-9ee9-49f9-b17f-e7f6c841c9bb</td>\n",
       "      <td>UserSignedIn</td>\n",
       "      <td>a5e17409-3ac8-4be9-8058-8c0031c14855</td>\n",
       "      <td>2021-12-25 00:17:49+00:00</td>\n",
       "      <td>\"{\\\"deviceCode\\\": \\\"a44e3f40-511c-452a-99c8-7b...</td>\n",
       "      <td>2021-12-25</td>\n",
       "      <td>2021-12</td>\n",
       "    </tr>\n",
       "    <tr>\n",
       "      <th>4</th>\n",
       "      <td>02542fb7-9ee9-49f9-b17f-e7f6c841c9bb</td>\n",
       "      <td>UserSignedIn</td>\n",
       "      <td>e1a14dbe-adc8-4eb9-b043-fd7315e9234f</td>\n",
       "      <td>2021-09-30 12:51:36+00:00</td>\n",
       "      <td>\"{\\\"deviceCode\\\": \\\"a7ebd2ee-72aa-45fc-9825-24...</td>\n",
       "      <td>2021-09-30</td>\n",
       "      <td>2021-09</td>\n",
       "    </tr>\n",
       "    <tr>\n",
       "      <th>5</th>\n",
       "      <td>02542fb7-9ee9-49f9-b17f-e7f6c841c9bb</td>\n",
       "      <td>UserSignedIn</td>\n",
       "      <td>c58d4b23-da8d-4e62-983a-a7ae1bc7d00f</td>\n",
       "      <td>2021-10-08 08:18:05+00:00</td>\n",
       "      <td>\"{\\\"deviceCode\\\": \\\"a44e3f40-511c-452a-99c8-7b...</td>\n",
       "      <td>2021-10-08</td>\n",
       "      <td>2021-10</td>\n",
       "    </tr>\n",
       "  </tbody>\n",
       "</table>\n",
       "</div>"
      ],
      "text/plain": [
       "                                 UserId IntegrationEvent  \\\n",
       "1  02542fb7-9ee9-49f9-b17f-e7f6c841c9bb     NudgeCreated   \n",
       "2  02542fb7-9ee9-49f9-b17f-e7f6c841c9bb     NudgeCreated   \n",
       "3  02542fb7-9ee9-49f9-b17f-e7f6c841c9bb     UserSignedIn   \n",
       "4  02542fb7-9ee9-49f9-b17f-e7f6c841c9bb     UserSignedIn   \n",
       "5  02542fb7-9ee9-49f9-b17f-e7f6c841c9bb     UserSignedIn   \n",
       "\n",
       "                              MessageId           CreationDateUtc  \\\n",
       "1      852618c20ec54ef69ad8c7b64f7ad564 2021-10-16 08:09:25+00:00   \n",
       "2      cb8e47a582b940d3ab93ba9ec8339bc1 2021-10-22 08:14:28+00:00   \n",
       "3  a5e17409-3ac8-4be9-8058-8c0031c14855 2021-12-25 00:17:49+00:00   \n",
       "4  e1a14dbe-adc8-4eb9-b043-fd7315e9234f 2021-09-30 12:51:36+00:00   \n",
       "5  c58d4b23-da8d-4e62-983a-a7ae1bc7d00f 2021-10-08 08:18:05+00:00   \n",
       "\n",
       "                                         ClearedBody        date yearmonth  \n",
       "1  \"{\\\"message\\\": \\\"Con i Gruppi di Spesa \\\\u00e8...  2021-10-16   2021-10  \n",
       "2  \"{\\\"message\\\": \\\"Segui la rotta dei video Focu...  2021-10-22   2021-10  \n",
       "3  \"{\\\"deviceCode\\\": \\\"a44e3f40-511c-452a-99c8-7b...  2021-12-25   2021-12  \n",
       "4  \"{\\\"deviceCode\\\": \\\"a7ebd2ee-72aa-45fc-9825-24...  2021-09-30   2021-09  \n",
       "5  \"{\\\"deviceCode\\\": \\\"a44e3f40-511c-452a-99c8-7b...  2021-10-08   2021-10  "
      ]
     },
     "execution_count": 115,
     "metadata": {},
     "output_type": "execute_result"
    }
   ],
   "source": [
    "df['CreationDateUtc'] = pd.to_datetime(df.CreationDateUtc, errors='coerce')\n",
    "df['date'] = df['CreationDateUtc'].dt.date\n",
    "df['yearmonth'] = df['CreationDateUtc'].dt.to_period('M')\n",
    "df.head()"
   ]
  },
  {
   "cell_type": "code",
   "execution_count": 116,
   "id": "6566db17",
   "metadata": {},
   "outputs": [
    {
     "data": {
      "text/plain": [
       "UserId              0\n",
       "IntegrationEvent    0\n",
       "MessageId           0\n",
       "CreationDateUtc     3\n",
       "ClearedBody         0\n",
       "date                3\n",
       "yearmonth           3\n",
       "dtype: int64"
      ]
     },
     "execution_count": 116,
     "metadata": {},
     "output_type": "execute_result"
    }
   ],
   "source": [
    "df.isnull().sum()"
   ]
  },
  {
   "cell_type": "code",
   "execution_count": 117,
   "id": "d2b6550f",
   "metadata": {},
   "outputs": [],
   "source": [
    "df.to_pickle('/Users/pranjal/Downloads/data/data_clean.pkl')"
   ]
  },
  {
   "cell_type": "markdown",
   "id": "1a3240bb",
   "metadata": {},
   "source": [
    "# Step 2: Clean Json\n",
    "- special character e\n",
    "- convert body to dict"
   ]
  },
  {
   "cell_type": "code",
   "execution_count": 122,
   "id": "042919d5",
   "metadata": {},
   "outputs": [],
   "source": [
    "df['ClearedBody'] = df['ClearedBody'].replace(\"//u00e8\",\"e\")\n",
    "df['ClearedBody'] = df['ClearedBody'].replace(\"//u00e9\",\"e\")"
   ]
  },
  {
   "cell_type": "code",
   "execution_count": 123,
   "id": "f2fd18aa",
   "metadata": {},
   "outputs": [
    {
     "data": {
      "text/html": [
       "<div>\n",
       "<style scoped>\n",
       "    .dataframe tbody tr th:only-of-type {\n",
       "        vertical-align: middle;\n",
       "    }\n",
       "\n",
       "    .dataframe tbody tr th {\n",
       "        vertical-align: top;\n",
       "    }\n",
       "\n",
       "    .dataframe thead th {\n",
       "        text-align: right;\n",
       "    }\n",
       "</style>\n",
       "<table border=\"1\" class=\"dataframe\">\n",
       "  <thead>\n",
       "    <tr style=\"text-align: right;\">\n",
       "      <th></th>\n",
       "      <th>UserId</th>\n",
       "      <th>IntegrationEvent</th>\n",
       "      <th>MessageId</th>\n",
       "      <th>CreationDateUtc</th>\n",
       "      <th>ClearedBody</th>\n",
       "      <th>date</th>\n",
       "      <th>yearmonth</th>\n",
       "    </tr>\n",
       "  </thead>\n",
       "  <tbody>\n",
       "    <tr>\n",
       "      <th>1</th>\n",
       "      <td>02542fb7-9ee9-49f9-b17f-e7f6c841c9bb</td>\n",
       "      <td>NudgeCreated</td>\n",
       "      <td>852618c20ec54ef69ad8c7b64f7ad564</td>\n",
       "      <td>2021-10-16 08:09:25+00:00</td>\n",
       "      <td>{\"message\": \"Con i Gruppi di Spesa \\u00e8 faci...</td>\n",
       "      <td>2021-10-16</td>\n",
       "      <td>2021-10</td>\n",
       "    </tr>\n",
       "    <tr>\n",
       "      <th>2</th>\n",
       "      <td>02542fb7-9ee9-49f9-b17f-e7f6c841c9bb</td>\n",
       "      <td>NudgeCreated</td>\n",
       "      <td>cb8e47a582b940d3ab93ba9ec8339bc1</td>\n",
       "      <td>2021-10-22 08:14:28+00:00</td>\n",
       "      <td>{\"message\": \"Segui la rotta dei video Focus pe...</td>\n",
       "      <td>2021-10-22</td>\n",
       "      <td>2021-10</td>\n",
       "    </tr>\n",
       "    <tr>\n",
       "      <th>3</th>\n",
       "      <td>02542fb7-9ee9-49f9-b17f-e7f6c841c9bb</td>\n",
       "      <td>UserSignedIn</td>\n",
       "      <td>a5e17409-3ac8-4be9-8058-8c0031c14855</td>\n",
       "      <td>2021-12-25 00:17:49+00:00</td>\n",
       "      <td>{\"deviceCode\": \"a44e3f40-511c-452a-99c8-7be335...</td>\n",
       "      <td>2021-12-25</td>\n",
       "      <td>2021-12</td>\n",
       "    </tr>\n",
       "    <tr>\n",
       "      <th>4</th>\n",
       "      <td>02542fb7-9ee9-49f9-b17f-e7f6c841c9bb</td>\n",
       "      <td>UserSignedIn</td>\n",
       "      <td>e1a14dbe-adc8-4eb9-b043-fd7315e9234f</td>\n",
       "      <td>2021-09-30 12:51:36+00:00</td>\n",
       "      <td>{\"deviceCode\": \"a7ebd2ee-72aa-45fc-9825-246bc5...</td>\n",
       "      <td>2021-09-30</td>\n",
       "      <td>2021-09</td>\n",
       "    </tr>\n",
       "    <tr>\n",
       "      <th>5</th>\n",
       "      <td>02542fb7-9ee9-49f9-b17f-e7f6c841c9bb</td>\n",
       "      <td>UserSignedIn</td>\n",
       "      <td>c58d4b23-da8d-4e62-983a-a7ae1bc7d00f</td>\n",
       "      <td>2021-10-08 08:18:05+00:00</td>\n",
       "      <td>{\"deviceCode\": \"a44e3f40-511c-452a-99c8-7be335...</td>\n",
       "      <td>2021-10-08</td>\n",
       "      <td>2021-10</td>\n",
       "    </tr>\n",
       "  </tbody>\n",
       "</table>\n",
       "</div>"
      ],
      "text/plain": [
       "                                 UserId IntegrationEvent  \\\n",
       "1  02542fb7-9ee9-49f9-b17f-e7f6c841c9bb     NudgeCreated   \n",
       "2  02542fb7-9ee9-49f9-b17f-e7f6c841c9bb     NudgeCreated   \n",
       "3  02542fb7-9ee9-49f9-b17f-e7f6c841c9bb     UserSignedIn   \n",
       "4  02542fb7-9ee9-49f9-b17f-e7f6c841c9bb     UserSignedIn   \n",
       "5  02542fb7-9ee9-49f9-b17f-e7f6c841c9bb     UserSignedIn   \n",
       "\n",
       "                              MessageId           CreationDateUtc  \\\n",
       "1      852618c20ec54ef69ad8c7b64f7ad564 2021-10-16 08:09:25+00:00   \n",
       "2      cb8e47a582b940d3ab93ba9ec8339bc1 2021-10-22 08:14:28+00:00   \n",
       "3  a5e17409-3ac8-4be9-8058-8c0031c14855 2021-12-25 00:17:49+00:00   \n",
       "4  e1a14dbe-adc8-4eb9-b043-fd7315e9234f 2021-09-30 12:51:36+00:00   \n",
       "5  c58d4b23-da8d-4e62-983a-a7ae1bc7d00f 2021-10-08 08:18:05+00:00   \n",
       "\n",
       "                                         ClearedBody        date yearmonth  \n",
       "1  {\"message\": \"Con i Gruppi di Spesa \\u00e8 faci...  2021-10-16   2021-10  \n",
       "2  {\"message\": \"Segui la rotta dei video Focus pe...  2021-10-22   2021-10  \n",
       "3  {\"deviceCode\": \"a44e3f40-511c-452a-99c8-7be335...  2021-12-25   2021-12  \n",
       "4  {\"deviceCode\": \"a7ebd2ee-72aa-45fc-9825-246bc5...  2021-09-30   2021-09  \n",
       "5  {\"deviceCode\": \"a44e3f40-511c-452a-99c8-7be335...  2021-10-08   2021-10  "
      ]
     },
     "execution_count": 123,
     "metadata": {},
     "output_type": "execute_result"
    }
   ],
   "source": [
    "df.head()"
   ]
  },
  {
   "cell_type": "code",
   "execution_count": 124,
   "id": "c886fe11",
   "metadata": {},
   "outputs": [
    {
     "name": "stdout",
     "output_type": "stream",
     "text": [
      "{\"rowId\": 11655957, \"type\": \"FloweFee\", \"income\": false, \"amount\": 1.0, \"partialAmount\": 0.0, \"operationDate\": \"2021-12-09T18:35:27.259\", \"valueDate\": \"2021-12-09T00:00:00\", \"creationDate\": \"2021-12-09T18:35:30.8942858Z\", \"userId\": \"0389298b-1f9c-447f-b31c-88044eaa3095\"}\n"
     ]
    },
    {
     "data": {
      "text/plain": [
       "{'rowId': 11655957,\n",
       " 'type': 'FloweFee',\n",
       " 'income': False,\n",
       " 'amount': 1.0,\n",
       " 'partialAmount': 0.0,\n",
       " 'operationDate': '2021-12-09T18:35:27.259',\n",
       " 'valueDate': '2021-12-09T00:00:00',\n",
       " 'creationDate': '2021-12-09T18:35:30.8942858Z',\n",
       " 'userId': '0389298b-1f9c-447f-b31c-88044eaa3095'}"
      ]
     },
     "execution_count": 124,
     "metadata": {},
     "output_type": "execute_result"
    }
   ],
   "source": [
    "import json\n",
    "print(df['ClearedBody'][567])\n",
    "json.loads(df['ClearedBody'][567])"
   ]
  },
  {
   "cell_type": "code",
   "execution_count": 125,
   "id": "72bbeb3e",
   "metadata": {},
   "outputs": [],
   "source": [
    "df['ClearedBody'] = df['ClearedBody'].apply(json.loads)"
   ]
  },
  {
   "cell_type": "code",
   "execution_count": 126,
   "id": "ab01b792",
   "metadata": {},
   "outputs": [
    {
     "data": {
      "text/html": [
       "<div>\n",
       "<style scoped>\n",
       "    .dataframe tbody tr th:only-of-type {\n",
       "        vertical-align: middle;\n",
       "    }\n",
       "\n",
       "    .dataframe tbody tr th {\n",
       "        vertical-align: top;\n",
       "    }\n",
       "\n",
       "    .dataframe thead th {\n",
       "        text-align: right;\n",
       "    }\n",
       "</style>\n",
       "<table border=\"1\" class=\"dataframe\">\n",
       "  <thead>\n",
       "    <tr style=\"text-align: right;\">\n",
       "      <th></th>\n",
       "      <th>UserId</th>\n",
       "      <th>IntegrationEvent</th>\n",
       "      <th>MessageId</th>\n",
       "      <th>CreationDateUtc</th>\n",
       "      <th>ClearedBody</th>\n",
       "      <th>date</th>\n",
       "      <th>yearmonth</th>\n",
       "    </tr>\n",
       "  </thead>\n",
       "  <tbody>\n",
       "    <tr>\n",
       "      <th>1</th>\n",
       "      <td>02542fb7-9ee9-49f9-b17f-e7f6c841c9bb</td>\n",
       "      <td>NudgeCreated</td>\n",
       "      <td>852618c20ec54ef69ad8c7b64f7ad564</td>\n",
       "      <td>2021-10-16 08:09:25+00:00</td>\n",
       "      <td>{'message': 'Con i Gruppi di Spesa è facile co...</td>\n",
       "      <td>2021-10-16</td>\n",
       "      <td>2021-10</td>\n",
       "    </tr>\n",
       "    <tr>\n",
       "      <th>2</th>\n",
       "      <td>02542fb7-9ee9-49f9-b17f-e7f6c841c9bb</td>\n",
       "      <td>NudgeCreated</td>\n",
       "      <td>cb8e47a582b940d3ab93ba9ec8339bc1</td>\n",
       "      <td>2021-10-22 08:14:28+00:00</td>\n",
       "      <td>{'message': 'Segui la rotta dei video Focus pe...</td>\n",
       "      <td>2021-10-22</td>\n",
       "      <td>2021-10</td>\n",
       "    </tr>\n",
       "    <tr>\n",
       "      <th>3</th>\n",
       "      <td>02542fb7-9ee9-49f9-b17f-e7f6c841c9bb</td>\n",
       "      <td>UserSignedIn</td>\n",
       "      <td>a5e17409-3ac8-4be9-8058-8c0031c14855</td>\n",
       "      <td>2021-12-25 00:17:49+00:00</td>\n",
       "      <td>{'deviceCode': 'a44e3f40-511c-452a-99c8-7be335...</td>\n",
       "      <td>2021-12-25</td>\n",
       "      <td>2021-12</td>\n",
       "    </tr>\n",
       "    <tr>\n",
       "      <th>4</th>\n",
       "      <td>02542fb7-9ee9-49f9-b17f-e7f6c841c9bb</td>\n",
       "      <td>UserSignedIn</td>\n",
       "      <td>e1a14dbe-adc8-4eb9-b043-fd7315e9234f</td>\n",
       "      <td>2021-09-30 12:51:36+00:00</td>\n",
       "      <td>{'deviceCode': 'a7ebd2ee-72aa-45fc-9825-246bc5...</td>\n",
       "      <td>2021-09-30</td>\n",
       "      <td>2021-09</td>\n",
       "    </tr>\n",
       "    <tr>\n",
       "      <th>5</th>\n",
       "      <td>02542fb7-9ee9-49f9-b17f-e7f6c841c9bb</td>\n",
       "      <td>UserSignedIn</td>\n",
       "      <td>c58d4b23-da8d-4e62-983a-a7ae1bc7d00f</td>\n",
       "      <td>2021-10-08 08:18:05+00:00</td>\n",
       "      <td>{'deviceCode': 'a44e3f40-511c-452a-99c8-7be335...</td>\n",
       "      <td>2021-10-08</td>\n",
       "      <td>2021-10</td>\n",
       "    </tr>\n",
       "  </tbody>\n",
       "</table>\n",
       "</div>"
      ],
      "text/plain": [
       "                                 UserId IntegrationEvent  \\\n",
       "1  02542fb7-9ee9-49f9-b17f-e7f6c841c9bb     NudgeCreated   \n",
       "2  02542fb7-9ee9-49f9-b17f-e7f6c841c9bb     NudgeCreated   \n",
       "3  02542fb7-9ee9-49f9-b17f-e7f6c841c9bb     UserSignedIn   \n",
       "4  02542fb7-9ee9-49f9-b17f-e7f6c841c9bb     UserSignedIn   \n",
       "5  02542fb7-9ee9-49f9-b17f-e7f6c841c9bb     UserSignedIn   \n",
       "\n",
       "                              MessageId           CreationDateUtc  \\\n",
       "1      852618c20ec54ef69ad8c7b64f7ad564 2021-10-16 08:09:25+00:00   \n",
       "2      cb8e47a582b940d3ab93ba9ec8339bc1 2021-10-22 08:14:28+00:00   \n",
       "3  a5e17409-3ac8-4be9-8058-8c0031c14855 2021-12-25 00:17:49+00:00   \n",
       "4  e1a14dbe-adc8-4eb9-b043-fd7315e9234f 2021-09-30 12:51:36+00:00   \n",
       "5  c58d4b23-da8d-4e62-983a-a7ae1bc7d00f 2021-10-08 08:18:05+00:00   \n",
       "\n",
       "                                         ClearedBody        date yearmonth  \n",
       "1  {'message': 'Con i Gruppi di Spesa è facile co...  2021-10-16   2021-10  \n",
       "2  {'message': 'Segui la rotta dei video Focus pe...  2021-10-22   2021-10  \n",
       "3  {'deviceCode': 'a44e3f40-511c-452a-99c8-7be335...  2021-12-25   2021-12  \n",
       "4  {'deviceCode': 'a7ebd2ee-72aa-45fc-9825-246bc5...  2021-09-30   2021-09  \n",
       "5  {'deviceCode': 'a44e3f40-511c-452a-99c8-7be335...  2021-10-08   2021-10  "
      ]
     },
     "execution_count": 126,
     "metadata": {},
     "output_type": "execute_result"
    }
   ],
   "source": [
    "df.head()"
   ]
  },
  {
   "cell_type": "markdown",
   "id": "edb724cc",
   "metadata": {},
   "source": [
    "# Step 3: Check 1"
   ]
  },
  {
   "cell_type": "code",
   "execution_count": 140,
   "id": "a08e6f09",
   "metadata": {},
   "outputs": [
    {
     "data": {
      "text/plain": [
       "UserSignedIn              5.882e-01\n",
       "TransactionConfirmed      1.535e-01\n",
       "EcoBalanceDataComputed    1.010e-01\n",
       "NudgeCreated              9.064e-02\n",
       "TransactionCreated        5.298e-02\n",
       "NudgeRead                 6.810e-03\n",
       "LoyaltyLevelChanged       4.150e-03\n",
       "TreeAcquired              1.150e-03\n",
       "PhysicalCardRequested     1.020e-03\n",
       "SubscriptionActivated     6.300e-04\n",
       "Name: IntegrationEvent, dtype: float64"
      ]
     },
     "execution_count": 140,
     "metadata": {},
     "output_type": "execute_result"
    }
   ],
   "source": [
    "# Summary Count 1\n",
    "df.IntegrationEvent.value_counts()/df.shape[0]"
   ]
  },
  {
   "cell_type": "code",
   "execution_count": 141,
   "id": "f60f9699",
   "metadata": {},
   "outputs": [
    {
     "data": {
      "text/plain": [
       "UserSignedIn              0.167\n",
       "TransactionConfirmed      0.167\n",
       "LoyaltyLevelChanged       0.162\n",
       "NudgeCreated              0.145\n",
       "EcoBalanceDataComputed    0.116\n",
       "TransactionCreated        0.087\n",
       "TreeAcquired              0.049\n",
       "PhysicalCardRequested     0.043\n",
       "NudgeRead                 0.042\n",
       "SubscriptionActivated     0.024\n",
       "Name: IntegrationEvent, dtype: float64"
      ]
     },
     "execution_count": 141,
     "metadata": {},
     "output_type": "execute_result"
    }
   ],
   "source": [
    "df2 = df.drop_duplicates(subset = ['UserId', 'IntegrationEvent'])\n",
    "df2.IntegrationEvent.value_counts()/df2.shape[0]"
   ]
  },
  {
   "cell_type": "code",
   "execution_count": 129,
   "id": "a444e94a",
   "metadata": {},
   "outputs": [
    {
     "data": {
      "text/plain": [
       "((99999, 7), (2357, 7))"
      ]
     },
     "execution_count": 129,
     "metadata": {},
     "output_type": "execute_result"
    }
   ],
   "source": [
    "df.shape, df2.shape"
   ]
  },
  {
   "cell_type": "markdown",
   "id": "873a8755",
   "metadata": {},
   "source": [
    "# Step 4: Separate Event Types and study fields by event"
   ]
  },
  {
   "cell_type": "code",
   "execution_count": 130,
   "id": "58225a1d",
   "metadata": {},
   "outputs": [],
   "source": [
    "# Storing the data into event types\n",
    "eventTypes = list(df.IntegrationEvent.value_counts().index)\n",
    "OUTPATH = '/Users/pranjal/Downloads/data/'\n",
    "for i in eventTypes:\n",
    "    df[df.IntegrationEvent == i].to_pickle(OUTPATH + str(i) + '.pkl')"
   ]
  },
  {
   "cell_type": "code",
   "execution_count": 143,
   "id": "741d4caf",
   "metadata": {},
   "outputs": [
    {
     "name": "stdout",
     "output_type": "stream",
     "text": [
      "UserSignedIn\n",
      "deviceCode    0.0\n",
      "userId        0.0\n",
      "dtype: float64\n",
      "\n",
      "\n",
      "TransactionConfirmed\n",
      "rowId            0.000\n",
      "type             0.000\n",
      "income           0.000\n",
      "amount           0.000\n",
      "partialAmount    0.026\n",
      "operationDate    0.000\n",
      "valueDate        0.000\n",
      "category         0.277\n",
      "creationDate     0.000\n",
      "userId           0.000\n",
      "mcc              0.326\n",
      "dtype: float64\n",
      "\n",
      "\n",
      "EcoBalanceDataComputed\n",
      "rowId                    0.0\n",
      "amount                   0.0\n",
      "mcc                      0.0\n",
      "carbonEmissionInGrams    0.0\n",
      "carbonSocialCost         0.0\n",
      "isCompensated            0.0\n",
      "creationDate             0.0\n",
      "userId                   0.0\n",
      "dtype: float64\n",
      "\n",
      "\n",
      "NudgeCreated\n",
      "message                0.000\n",
      "title                  0.000\n",
      "NotificationChannel    0.055\n",
      "NotificationType       0.087\n",
      "nudgeId                0.627\n",
      "userId                 0.000\n",
      "creationDate           0.000\n",
      "nudge                  0.071\n",
      "topic                  0.364\n",
      "notificationChannel    0.945\n",
      "dtype: float64\n",
      "\n",
      "\n",
      "TransactionCreated\n",
      "transactionId              0.000\n",
      "type                       0.000\n",
      "direction                  0.000\n",
      "amount                     0.000\n",
      "carbonEmissionInGrams      0.257\n",
      "carbonSocialCost           0.257\n",
      "isCompensated              0.000\n",
      "creationDate               0.000\n",
      "userId                     0.000\n",
      "isWireTransferExecuted     0.580\n",
      "id                         0.920\n",
      "merchantExpenseCategory    0.720\n",
      "valueDate                  0.668\n",
      "dtype: float64\n",
      "\n",
      "\n",
      "NudgeRead\n",
      "nudgeId               0.0\n",
      "title                 0.0\n",
      "nudgeCreationDate     0.0\n",
      "creationDate          0.0\n",
      "userId                0.0\n",
      "dtype: float64\n",
      "\n",
      "\n",
      "LoyaltyLevelChanged\n",
      "currentLoyaltyLevel    0.000\n",
      "subscribedProducts     0.773\n",
      "ddsCounter             0.689\n",
      "creationDate           0.000\n",
      "userId                 0.000\n",
      "dtype: float64\n",
      "\n",
      "\n",
      "TreeAcquired\n",
      "treeId            0.000\n",
      "compensatedCO2    0.000\n",
      "type              0.000\n",
      "sowingDate        0.000\n",
      "creationDate      0.000\n",
      "userId            0.000\n",
      "id                0.817\n",
      "dtype: float64\n",
      "\n",
      "\n",
      "PhysicalCardRequested\n",
      "loyaltyLevel    0.588\n",
      "cardType        0.118\n",
      "gems            0.118\n",
      "paid            0.118\n",
      "creationDate    0.000\n",
      "userId          0.000\n",
      "dtype: float64\n",
      "\n",
      "\n",
      "SubscriptionActivated\n",
      "activationAmount     0.254\n",
      "activationGems       0.254\n",
      "product              0.000\n",
      "includedServices     0.000\n",
      "actualProductsSet    0.000\n",
      "creationDate         0.000\n",
      "userId               0.000\n",
      "dtype: float64\n",
      "\n",
      "\n"
     ]
    }
   ],
   "source": [
    "for i in eventTypes:\n",
    "    print(i)\n",
    "    temp = pd.json_normalize(df[df.IntegrationEvent == i]['ClearedBody'])\n",
    "    print(temp.isnull().sum()/temp.shape[0])\n",
    "    print('\\n')"
   ]
  },
  {
   "cell_type": "markdown",
   "id": "34e478c1",
   "metadata": {},
   "source": [
    "Step 5: Merge into Usersignin"
   ]
  },
  {
   "cell_type": "markdown",
   "id": "36c16f15",
   "metadata": {},
   "source": [
    "# Panels"
   ]
  },
  {
   "cell_type": "code",
   "execution_count": 10,
   "id": "8621f652",
   "metadata": {},
   "outputs": [],
   "source": [
    "df_ = df[df.IntegrationEvent == 'UserSignIn']"
   ]
  },
  {
   "cell_type": "code",
   "execution_count": 11,
   "id": "e6983dba",
   "metadata": {},
   "outputs": [],
   "source": [
    "df2 = df[df.IntegrationEvent == 'TransactionConfirmed']"
   ]
  },
  {
   "cell_type": "code",
   "execution_count": null,
   "id": "161c8478",
   "metadata": {},
   "outputs": [],
   "source": []
  }
 ],
 "metadata": {
  "kernelspec": {
   "display_name": "Python 3 (ipykernel)",
   "language": "python",
   "name": "python3"
  },
  "language_info": {
   "codemirror_mode": {
    "name": "ipython",
    "version": 3
   },
   "file_extension": ".py",
   "mimetype": "text/x-python",
   "name": "python",
   "nbconvert_exporter": "python",
   "pygments_lexer": "ipython3",
   "version": "3.10.5"
  }
 },
 "nbformat": 4,
 "nbformat_minor": 5
}
