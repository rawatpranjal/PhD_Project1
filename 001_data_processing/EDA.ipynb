{
 "cells": [
  {
   "cell_type": "code",
   "execution_count": 4,
   "metadata": {},
   "outputs": [],
   "source": [
    "# Tasks\n",
    "# 1. data extraction, column naming, value counts, summary stats, \n",
    "# 2. load full data (partial columns, full columns, random sample)\n",
    "# 3. nlp on body, date counts, usr and msg distinct counts, skip\n",
    "# 4. figure out what the max col usage is for, and what does each of the filler columns mean\n",
    "# 5. json extraction"
   ]
  },
  {
   "cell_type": "code",
   "execution_count": 5,
   "metadata": {},
   "outputs": [],
   "source": [
    "import pandas as pd\n",
    "pd.set_option('display.max_rows', 500)\n",
    "pd.set_option('display.max_columns', 500)\n",
    "pd.set_option('display.width', 1000)\n",
    "pd.set_option('display.width', 1000)"
   ]
  },
  {
   "cell_type": "code",
   "execution_count": 6,
   "metadata": {},
   "outputs": [
    {
     "name": "stderr",
     "output_type": "stream",
     "text": [
      "/usr/local/lib/python3.9/site-packages/IPython/core/interactiveshell.py:3135: DtypeWarning: Columns (16,17) have mixed types.Specify dtype option on import or set low_memory=False.\n",
      "  has_raised = await self.run_ast_nodes(code_ast.body, cell_name,\n"
     ]
    },
    {
     "data": {
      "text/html": [
       "<div>\n",
       "<style scoped>\n",
       "    .dataframe tbody tr th:only-of-type {\n",
       "        vertical-align: middle;\n",
       "    }\n",
       "\n",
       "    .dataframe tbody tr th {\n",
       "        vertical-align: top;\n",
       "    }\n",
       "\n",
       "    .dataframe thead th {\n",
       "        text-align: right;\n",
       "    }\n",
       "</style>\n",
       "<table border=\"1\" class=\"dataframe\">\n",
       "  <thead>\n",
       "    <tr style=\"text-align: right;\">\n",
       "      <th></th>\n",
       "      <th>userid</th>\n",
       "      <th>event</th>\n",
       "      <th>msgid</th>\n",
       "      <th>cts</th>\n",
       "      <th>deviceCode</th>\n",
       "      <th>currentLoyaltyLevel</th>\n",
       "      <th>rowId</th>\n",
       "      <th>message</th>\n",
       "      <th>userId</th>\n",
       "      <th>transactionId</th>\n",
       "      <th>nudgeId</th>\n",
       "      <th>activationAmount</th>\n",
       "      <th>treeId</th>\n",
       "      <th>loyaltyLevel</th>\n",
       "      <th>cardType</th>\n",
       "      <th>creationDate</th>\n",
       "      <th>product</th>\n",
       "      <th>birthDate</th>\n",
       "      <th>date</th>\n",
       "      <th>yearmonth</th>\n",
       "    </tr>\n",
       "  </thead>\n",
       "  <tbody>\n",
       "    <tr>\n",
       "      <th>0</th>\n",
       "      <td>02542fb7-9ee9-49f9-b17f-e7f6c841c9bb</td>\n",
       "      <td>UserSignedIn</td>\n",
       "      <td>a47fd3cc-c9db-432b-9f50-d8aa76bf35a5</td>\n",
       "      <td>2021-10-04T16:41:36.000Z</td>\n",
       "      <td>a7ebd2ee-72aa-45fc-9825-246bc55eabdf</td>\n",
       "      <td>NaN</td>\n",
       "      <td>NaN</td>\n",
       "      <td>NaN</td>\n",
       "      <td>NaN</td>\n",
       "      <td>NaN</td>\n",
       "      <td>NaN</td>\n",
       "      <td>NaN</td>\n",
       "      <td>NaN</td>\n",
       "      <td>NaN</td>\n",
       "      <td>NaN</td>\n",
       "      <td>NaN</td>\n",
       "      <td>NaN</td>\n",
       "      <td>NaN</td>\n",
       "      <td>2021-10-04</td>\n",
       "      <td>2021-10</td>\n",
       "    </tr>\n",
       "    <tr>\n",
       "      <th>1</th>\n",
       "      <td>02542fb7-9ee9-49f9-b17f-e7f6c841c9bb</td>\n",
       "      <td>UserSignedIn</td>\n",
       "      <td>d0a2fb86-3f38-48f9-9106-61b2771f493d</td>\n",
       "      <td>2021-09-28T09:25:02.000Z</td>\n",
       "      <td>a44e3f40-511c-452a-99c8-7be335680c9a</td>\n",
       "      <td>NaN</td>\n",
       "      <td>NaN</td>\n",
       "      <td>NaN</td>\n",
       "      <td>NaN</td>\n",
       "      <td>NaN</td>\n",
       "      <td>NaN</td>\n",
       "      <td>NaN</td>\n",
       "      <td>NaN</td>\n",
       "      <td>NaN</td>\n",
       "      <td>NaN</td>\n",
       "      <td>NaN</td>\n",
       "      <td>NaN</td>\n",
       "      <td>NaN</td>\n",
       "      <td>2021-09-28</td>\n",
       "      <td>2021-09</td>\n",
       "    </tr>\n",
       "    <tr>\n",
       "      <th>2</th>\n",
       "      <td>02542fb7-9ee9-49f9-b17f-e7f6c841c9bb</td>\n",
       "      <td>UserSignedIn</td>\n",
       "      <td>625cda9f-6a43-4070-9630-a3e6774c2690</td>\n",
       "      <td>2021-10-29T09:07:50.000Z</td>\n",
       "      <td>NaN</td>\n",
       "      <td>Fan2</td>\n",
       "      <td>NaN</td>\n",
       "      <td>NaN</td>\n",
       "      <td>NaN</td>\n",
       "      <td>NaN</td>\n",
       "      <td>NaN</td>\n",
       "      <td>NaN</td>\n",
       "      <td>NaN</td>\n",
       "      <td>NaN</td>\n",
       "      <td>NaN</td>\n",
       "      <td>NaN</td>\n",
       "      <td>NaN</td>\n",
       "      <td>NaN</td>\n",
       "      <td>2021-10-29</td>\n",
       "      <td>2021-10</td>\n",
       "    </tr>\n",
       "    <tr>\n",
       "      <th>3</th>\n",
       "      <td>02650cc5-b4da-483a-96cc-4b6a5119a808</td>\n",
       "      <td>LoyaltyLevelChanged</td>\n",
       "      <td>390d362a-4b31-4a71-bba0-5b8165a12a27</td>\n",
       "      <td>2022-02-08T13:08:18.000Z</td>\n",
       "      <td>NaN</td>\n",
       "      <td>NaN</td>\n",
       "      <td>13102673.0</td>\n",
       "      <td>NaN</td>\n",
       "      <td>NaN</td>\n",
       "      <td>NaN</td>\n",
       "      <td>NaN</td>\n",
       "      <td>NaN</td>\n",
       "      <td>NaN</td>\n",
       "      <td>NaN</td>\n",
       "      <td>NaN</td>\n",
       "      <td>NaN</td>\n",
       "      <td>NaN</td>\n",
       "      <td>NaN</td>\n",
       "      <td>2022-02-08</td>\n",
       "      <td>2022-02</td>\n",
       "    </tr>\n",
       "    <tr>\n",
       "      <th>4</th>\n",
       "      <td>02650cc5-b4da-483a-96cc-4b6a5119a808</td>\n",
       "      <td>TransactionConfirmed</td>\n",
       "      <td>6d8bc20c-ffb9-49bb-856e-68f683a5e9d5</td>\n",
       "      <td>2022-05-10T23:14:09.000Z</td>\n",
       "      <td>a070a268-5417-4450-9414-8cf98682c453</td>\n",
       "      <td>NaN</td>\n",
       "      <td>NaN</td>\n",
       "      <td>NaN</td>\n",
       "      <td>NaN</td>\n",
       "      <td>NaN</td>\n",
       "      <td>NaN</td>\n",
       "      <td>NaN</td>\n",
       "      <td>NaN</td>\n",
       "      <td>NaN</td>\n",
       "      <td>NaN</td>\n",
       "      <td>NaN</td>\n",
       "      <td>NaN</td>\n",
       "      <td>NaN</td>\n",
       "      <td>2022-05-10</td>\n",
       "      <td>2022-05</td>\n",
       "    </tr>\n",
       "  </tbody>\n",
       "</table>\n",
       "</div>"
      ],
      "text/plain": [
       "                                 userid                 event                                 msgid                       cts                            deviceCode currentLoyaltyLevel       rowId message userId transactionId nudgeId  activationAmount treeId loyaltyLevel  cardType creationDate product  birthDate        date yearmonth\n",
       "0  02542fb7-9ee9-49f9-b17f-e7f6c841c9bb          UserSignedIn  a47fd3cc-c9db-432b-9f50-d8aa76bf35a5  2021-10-04T16:41:36.000Z  a7ebd2ee-72aa-45fc-9825-246bc55eabdf                 NaN         NaN     NaN    NaN           NaN     NaN               NaN    NaN          NaN       NaN          NaN     NaN        NaN  2021-10-04   2021-10\n",
       "1  02542fb7-9ee9-49f9-b17f-e7f6c841c9bb          UserSignedIn  d0a2fb86-3f38-48f9-9106-61b2771f493d  2021-09-28T09:25:02.000Z  a44e3f40-511c-452a-99c8-7be335680c9a                 NaN         NaN     NaN    NaN           NaN     NaN               NaN    NaN          NaN       NaN          NaN     NaN        NaN  2021-09-28   2021-09\n",
       "2  02542fb7-9ee9-49f9-b17f-e7f6c841c9bb          UserSignedIn  625cda9f-6a43-4070-9630-a3e6774c2690  2021-10-29T09:07:50.000Z                                   NaN                Fan2         NaN     NaN    NaN           NaN     NaN               NaN    NaN          NaN       NaN          NaN     NaN        NaN  2021-10-29   2021-10\n",
       "3  02650cc5-b4da-483a-96cc-4b6a5119a808   LoyaltyLevelChanged  390d362a-4b31-4a71-bba0-5b8165a12a27  2022-02-08T13:08:18.000Z                                   NaN                 NaN  13102673.0     NaN    NaN           NaN     NaN               NaN    NaN          NaN       NaN          NaN     NaN        NaN  2022-02-08   2022-02\n",
       "4  02650cc5-b4da-483a-96cc-4b6a5119a808  TransactionConfirmed  6d8bc20c-ffb9-49bb-856e-68f683a5e9d5  2022-05-10T23:14:09.000Z  a070a268-5417-4450-9414-8cf98682c453                 NaN         NaN     NaN    NaN           NaN     NaN               NaN    NaN          NaN       NaN          NaN     NaN        NaN  2022-05-10   2022-05"
      ]
     },
     "execution_count": 6,
     "metadata": {},
     "output_type": "execute_result"
    }
   ],
   "source": [
    "INPATH = '/Users/pranjal/Downloads/cleaned.csv'\n",
    "import pandas as pd\n",
    "df = pd.read_csv(INPATH).iloc[:, 1:]\n",
    "df.head()"
   ]
  },
  {
   "cell_type": "markdown",
   "metadata": {},
   "source": [
    "# Overview"
   ]
  },
  {
   "cell_type": "code",
   "execution_count": 7,
   "metadata": {},
   "outputs": [
    {
     "name": "stdout",
     "output_type": "stream",
     "text": [
      "(921211, 20)\n"
     ]
    }
   ],
   "source": [
    "print(df.shape)"
   ]
  },
  {
   "cell_type": "code",
   "execution_count": 8,
   "metadata": {},
   "outputs": [
    {
     "data": {
      "text/plain": [
       "userid                      0\n",
       "event                       0\n",
       "msgid                       0\n",
       "cts                        73\n",
       "deviceCode             370251\n",
       "currentLoyaltyLevel    917431\n",
       "rowId                  696331\n",
       "message                891212\n",
       "userId                 868862\n",
       "transactionId          875442\n",
       "nudgeId                914854\n",
       "activationAmount       920573\n",
       "treeId                 920096\n",
       "loyaltyLevel           920866\n",
       "cardType               920727\n",
       "creationDate           920878\n",
       "product                921140\n",
       "birthDate              917081\n",
       "date                       73\n",
       "yearmonth                  73\n",
       "dtype: int64"
      ]
     },
     "execution_count": 8,
     "metadata": {},
     "output_type": "execute_result"
    }
   ],
   "source": [
    "# Null Counts\n",
    "df.isnull().sum()"
   ]
  },
  {
   "cell_type": "code",
   "execution_count": 21,
   "metadata": {},
   "outputs": [
    {
     "data": {
      "text/plain": [
       "UserSignedIn              550961\n",
       "TransactionConfirmed      134379\n",
       "EcoBalanceDataComputed     90501\n",
       "NudgeCreated               82330\n",
       "TransactionCreated         45769\n",
       "NudgeRead                   6357\n",
       "RiskLevelEvaluated          4225\n",
       "LoyaltyLevelChanged         3780\n",
       "TreeAcquired                1115\n",
       "PhysicalCardRequested        994\n",
       "SubscriptionActivated        800\n",
       "Name: event, dtype: int64"
      ]
     },
     "execution_count": 21,
     "metadata": {},
     "output_type": "execute_result"
    }
   ],
   "source": [
    "df.event.value_counts()"
   ]
  },
  {
   "cell_type": "code",
   "execution_count": 48,
   "metadata": {},
   "outputs": [
    {
     "name": "stderr",
     "output_type": "stream",
     "text": [
      "/usr/local/lib/python3.8/site-packages/pandas/plotting/_matplotlib/core.py:1192: UserWarning: FixedFormatter should only be used together with FixedLocator\n",
      "  ax.set_xticklabels(xticklabels)\n"
     ]
    },
    {
     "data": {
      "text/plain": [
       "<AxesSubplot:>"
      ]
     },
     "execution_count": 48,
     "metadata": {},
     "output_type": "execute_result"
    },
    {
     "data": {
      "image/png": "[encoded data removed]",
      "text/plain": [
       "<Figure size 800x320 with 1 Axes>"
      ]
     },
     "metadata": {
      "needs_background": "light"
     },
     "output_type": "display_data"
    }
   ],
   "source": [
    "# Events over time\n",
    "from matplotlib.pyplot import figure\n",
    "figure(figsize=(10, 4), dpi=80)\n",
    "import matplotlib.pyplot as plt\n",
    "df.date.value_counts().sort_values().plot()"
   ]
  },
  {
   "cell_type": "code",
   "execution_count": 47,
   "metadata": {},
   "outputs": [
    {
     "name": "stderr",
     "output_type": "stream",
     "text": [
      "/usr/local/lib/python3.8/site-packages/pandas/plotting/_matplotlib/core.py:1192: UserWarning: FixedFormatter should only be used together with FixedLocator\n",
      "  ax.set_xticklabels(xticklabels)\n"
     ]
    },
    {
     "data": {
      "text/plain": [
       "<AxesSubplot:>"
      ]
     },
     "execution_count": 47,
     "metadata": {},
     "output_type": "execute_result"
    },
    {
     "data": {
      "image/png": "[encoded data removed]",
      "text/plain": [
       "<Figure size 800x320 with 1 Axes>"
      ]
     },
     "metadata": {
      "needs_background": "light"
     },
     "output_type": "display_data"
    }
   ],
   "source": [
    "# Events over time\n",
    "figure(figsize=(10, 4), dpi=80)\n",
    "df.yearmonth.value_counts().sort_values().plot()"
   ]
  },
  {
   "cell_type": "code",
   "execution_count": 32,
   "metadata": {},
   "outputs": [
    {
     "data": {
      "text/plain": [
       "Index(['userid', 'event', 'msgid', 'cts', 'deviceCode', 'currentLoyaltyLevel', 'rowId', 'message', 'userId', 'transactionId', 'nudgeId', 'activationAmount', 'treeId', 'loyaltyLevel', 'cardType', 'creationDate', 'product', 'birthDate', 'date', 'yearmonth'], dtype='object')"
      ]
     },
     "execution_count": 32,
     "metadata": {},
     "output_type": "execute_result"
    }
   ],
   "source": [
    "df.columns"
   ]
  },
  {
   "cell_type": "markdown",
   "metadata": {},
   "source": [
    "# Json Information - Device Code"
   ]
  },
  {
   "cell_type": "code",
   "execution_count": 73,
   "metadata": {},
   "outputs": [
    {
     "data": {
      "text/plain": [
       "c42ceb0d-4756-41c5-979f-6c5ed3adf2c9    293\n",
       "e1fde2f9-74a8-423d-b136-b6befe043dac    271\n",
       "d03a7017-9ee1-423e-b788-6904ae58f1f6    256\n",
       "56e18718-1ed4-438e-add4-5eb67fbeabe7    255\n",
       "e47b23d4-0b95-418d-b291-72ee99248342    249\n",
       "                                       ... \n",
       "2396cf6a-142f-41fd-8bfa-5027188a4ea1      1\n",
       "1ea2cff1-0e03-4f14-8d45-6fee2bfa6372      1\n",
       "808a1d8d-45e8-44f3-a5cc-64c9c7f1d103      1\n",
       "afec2fa5-a06e-4d55-940b-f97a1c1a2677      1\n",
       "d5d1b43b-d535-44de-b78c-c7837de9eb4f      1\n",
       "Name: deviceCode, Length: 108513, dtype: int64"
      ]
     },
     "execution_count": 73,
     "metadata": {},
     "output_type": "execute_result"
    }
   ],
   "source": [
    "df.deviceCode.value_counts()"
   ]
  },
  {
   "cell_type": "code",
   "execution_count": 50,
   "metadata": {},
   "outputs": [
    {
     "data": {
      "text/plain": [
       "<AxesSubplot:>"
      ]
     },
     "execution_count": 50,
     "metadata": {},
     "output_type": "execute_result"
    },
    {
     "data": {
      "image/png": "[encoded data removed]",
      "text/plain": [
       "<Figure size 800x160 with 1 Axes>"
      ]
     },
     "metadata": {
      "needs_background": "light"
     },
     "output_type": "display_data"
    }
   ],
   "source": [
    "figure(figsize=(10, 2), dpi=80)\n",
    "df.deviceCode.value_counts().hist(bins = 200)"
   ]
  },
  {
   "cell_type": "code",
   "execution_count": 56,
   "metadata": {},
   "outputs": [
    {
     "name": "stderr",
     "output_type": "stream",
     "text": [
      "/usr/local/lib/python3.8/site-packages/pandas/plotting/_matplotlib/core.py:1192: UserWarning: FixedFormatter should only be used together with FixedLocator\n",
      "  ax.set_xticklabels(xticklabels)\n"
     ]
    },
    {
     "data": {
      "text/plain": [
       "<AxesSubplot:xlabel='yearmonth'>"
      ]
     },
     "execution_count": 56,
     "metadata": {},
     "output_type": "execute_result"
    },
    {
     "data": {
      "image/png": "[encoded data removed]",
      "text/plain": [
       "<Figure size 432x288 with 1 Axes>"
      ]
     },
     "metadata": {
      "needs_background": "light"
     },
     "output_type": "display_data"
    }
   ],
   "source": [
    "df[['deviceCode', 'yearmonth']][df.deviceCode == 'c42ceb0d-4756-41c5-979f-6c5ed3adf2c9'].groupby(['yearmonth']).count().plot()"
   ]
  },
  {
   "cell_type": "code",
   "execution_count": 71,
   "metadata": {},
   "outputs": [
    {
     "name": "stderr",
     "output_type": "stream",
     "text": [
      "/usr/local/lib/python3.8/site-packages/pandas/plotting/_matplotlib/core.py:1192: UserWarning: FixedFormatter should only be used together with FixedLocator\n",
      "  ax.set_xticklabels(xticklabels)\n"
     ]
    },
    {
     "data": {
      "text/plain": [
       "<AxesSubplot:xlabel='yearmonth'>"
      ]
     },
     "execution_count": 71,
     "metadata": {},
     "output_type": "execute_result"
    },
    {
     "data": {
      "image/png": "[encoded data removed]",
      "text/plain": [
       "<Figure size 432x288 with 1 Axes>"
      ]
     },
     "metadata": {
      "needs_background": "light"
     },
     "output_type": "display_data"
    }
   ],
   "source": [
    "df[['deviceCode', 'yearmonth']][df.deviceCode == 'b52a82ea-789f-4215-820f-888a2bc687aa'].groupby(['yearmonth']).count().plot()"
   ]
  },
  {
   "cell_type": "markdown",
   "metadata": {},
   "source": [
    "# currentLoyaltyLevel"
   ]
  },
  {
   "cell_type": "code",
   "execution_count": 74,
   "metadata": {},
   "outputs": [
    {
     "data": {
      "text/plain": [
       "Fan                3088\n",
       "Friend4Life         253\n",
       "Fan2                200\n",
       "Friend              105\n",
       "StaffMediolanum      68\n",
       "TeamFB               55\n",
       "Founder               6\n",
       "StaffFlowe            5\n",
       "Name: currentLoyaltyLevel, dtype: int64"
      ]
     },
     "execution_count": 74,
     "metadata": {},
     "output_type": "execute_result"
    }
   ],
   "source": [
    "df.currentLoyaltyLevel.value_counts()"
   ]
  },
  {
   "cell_type": "code",
   "execution_count": null,
   "metadata": {},
   "outputs": [],
   "source": []
  }
 ],
 "metadata": {
  "kernelspec": {
   "display_name": "Python 3 (ipykernel)",
   "language": "python",
   "name": "python3"
  },
  "language_info": {
   "codemirror_mode": {
    "name": "ipython",
    "version": 3
   },
   "file_extension": ".py",
   "mimetype": "text/x-python",
   "name": "python",
   "nbconvert_exporter": "python",
   "pygments_lexer": "ipython3",
   "version": "3.9.2"
  }
 },
 "nbformat": 4,
 "nbformat_minor": 4
}
